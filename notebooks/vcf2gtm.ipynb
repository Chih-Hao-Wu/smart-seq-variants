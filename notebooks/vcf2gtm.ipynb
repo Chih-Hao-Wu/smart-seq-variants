{
 "cells": [
  {
   "cell_type": "code",
   "execution_count": 1,
   "metadata": {},
   "outputs": [],
   "source": [
    "import pandas as pd\n",
    "import matplotlib.pyplot as plt\n",
    "import polars as pl\n",
    "import seaborn as sns\n",
    "import mudata as md"
   ]
  },
  {
   "cell_type": "code",
   "execution_count": 2,
   "metadata": {},
   "outputs": [],
   "source": [
    "START_SAMPLES_COL = 9\n",
    "file = '/Users/wuchh/project/single-cell-parsing/data/m107.jointcall.vcf'"
   ]
  },
  {
   "cell_type": "code",
   "execution_count": 3,
   "metadata": {},
   "outputs": [],
   "source": [
    "def skiprows(file):\n",
    "\n",
    "    with open(file) as handle:\n",
    "\n",
    "        for i, row in enumerate(handle):\n",
    "            if not row.startswith('#'):\n",
    "                return i - 1 \n",
    "            else: continue\n",
    "            \n",
    "        return 0"
   ]
  },
  {
   "cell_type": "code",
   "execution_count": 4,
   "metadata": {},
   "outputs": [],
   "source": [
    "df = pl.read_csv(file, separator='\\t', skip_rows=100)"
   ]
  },
  {
   "cell_type": "code",
   "execution_count": 5,
   "metadata": {},
   "outputs": [
    {
     "name": "stdout",
     "output_type": "stream",
     "text": [
      "shape: (2, 2)\n",
      "┌───────┬────────┐\n",
      "│ ALT   ┆ count  │\n",
      "│ ---   ┆ ---    │\n",
      "│ bool  ┆ u32    │\n",
      "╞═══════╪════════╡\n",
      "│ true  ┆ 820377 │\n",
      "│ false ┆ 110529 │\n",
      "└───────┴────────┘\n"
     ]
    }
   ],
   "source": [
    "# Remove sites that are not biallelic\n",
    "num_alt_alleles = df['ALT'].map_elements(lambda x: len(x.split(',')), return_dtype=pl.Int32)\n",
    "\n",
    "mask_biallelic = (num_alt_alleles == 1)\n",
    "print(mask_biallelic.value_counts())\n",
    "\n",
    "no_multiallelic = df.filter(mask_biallelic)"
   ]
  },
  {
   "cell_type": "code",
   "execution_count": 6,
   "metadata": {},
   "outputs": [
    {
     "name": "stdout",
     "output_type": "stream",
     "text": [
      "shape: (2, 2)\n",
      "┌───────┬────────┐\n",
      "│ ALT   ┆ count  │\n",
      "│ ---   ┆ ---    │\n",
      "│ bool  ┆ u32    │\n",
      "╞═══════╪════════╡\n",
      "│ true  ┆ 558952 │\n",
      "│ false ┆ 261425 │\n",
      "└───────┴────────┘\n",
      "shape: (2, 2)\n",
      "┌───────┬────────┐\n",
      "│ REF   ┆ count  │\n",
      "│ ---   ┆ ---    │\n",
      "│ bool  ┆ u32    │\n",
      "╞═══════╪════════╡\n",
      "│ true  ┆ 476430 │\n",
      "│ false ┆ 82522  │\n",
      "└───────┴────────┘\n"
     ]
    }
   ],
   "source": [
    "# Remove sites where variant is an indel\n",
    "len_alt_allele = no_multiallelic['ALT'].map_elements(lambda x: len(x), return_dtype=pl.Int16)\n",
    "\n",
    "mask_snv = (len_alt_allele == 1)\n",
    "print(mask_snv.value_counts())\n",
    "\n",
    "no_in = no_multiallelic.filter(mask_snv)\n",
    "\n",
    "# Remove sites where variant is an indel\n",
    "len_alt_allele = no_in['REF'].map_elements(lambda x: len(x), return_dtype=pl.Int16)\n",
    "\n",
    "mask_snv = (len_alt_allele == 1)\n",
    "print(mask_snv.value_counts())\n",
    "\n",
    "no_indel = no_in.filter(mask_snv)"
   ]
  },
  {
   "cell_type": "code",
   "execution_count": 7,
   "metadata": {},
   "outputs": [],
   "source": [
    "cells = no_indel.columns[START_SAMPLES_COL:]"
   ]
  },
  {
   "cell_type": "code",
   "execution_count": 8,
   "metadata": {},
   "outputs": [],
   "source": [
    "samples_dataframe = no_indel[cells]"
   ]
  },
  {
   "cell_type": "code",
   "execution_count": 9,
   "metadata": {},
   "outputs": [
    {
     "data": {
      "text/html": [
       "<div><style>\n",
       ".dataframe > thead > tr,\n",
       ".dataframe > tbody > tr {\n",
       "  text-align: right;\n",
       "  white-space: pre-wrap;\n",
       "}\n",
       "</style>\n",
       "<small>shape: (476_430, 96)</small><table border=\"1\" class=\"dataframe\"><thead><tr><th>107_P06_A01</th><th>107_P06_A02</th><th>107_P06_A03</th><th>107_P06_A04</th><th>107_P06_A05</th><th>107_P06_A06</th><th>107_P06_A07</th><th>107_P06_A08</th><th>107_P06_A09</th><th>107_P06_A10</th><th>107_P06_A11</th><th>107_P06_A12</th><th>107_P06_B01</th><th>107_P06_B02</th><th>107_P06_B03</th><th>107_P06_B04</th><th>107_P06_B05</th><th>107_P06_B06</th><th>107_P06_B07</th><th>107_P06_B08</th><th>107_P06_B09</th><th>107_P06_B10</th><th>107_P06_B11</th><th>107_P06_B12</th><th>107_P06_C01</th><th>107_P06_C02</th><th>107_P06_C03</th><th>107_P06_C04</th><th>107_P06_C05</th><th>107_P06_C06</th><th>107_P06_C07</th><th>107_P06_C08</th><th>107_P06_C09</th><th>107_P06_C10</th><th>107_P06_C11</th><th>107_P06_C12</th><th>107_P06_D01</th><th>&hellip;</th><th>107_P06_E12</th><th>107_P06_F01</th><th>107_P06_F02</th><th>107_P06_F03</th><th>107_P06_F04</th><th>107_P06_F05</th><th>107_P06_F06</th><th>107_P06_F07</th><th>107_P06_F08</th><th>107_P06_F09</th><th>107_P06_F10</th><th>107_P06_F11</th><th>107_P06_F12</th><th>107_P06_G01</th><th>107_P06_G02</th><th>107_P06_G03</th><th>107_P06_G04</th><th>107_P06_G05</th><th>107_P06_G06</th><th>107_P06_G07</th><th>107_P06_G08</th><th>107_P06_G09</th><th>107_P06_G10</th><th>107_P06_G11</th><th>107_P06_G12</th><th>107_P06_H01</th><th>107_P06_H02</th><th>107_P06_H03</th><th>107_P06_H04</th><th>107_P06_H05</th><th>107_P06_H06</th><th>107_P06_H07</th><th>107_P06_H08</th><th>107_P06_H09</th><th>107_P06_H10</th><th>107_P06_H11</th><th>107_P06_H12</th></tr><tr><td>str</td><td>str</td><td>str</td><td>str</td><td>str</td><td>str</td><td>str</td><td>str</td><td>str</td><td>str</td><td>str</td><td>str</td><td>str</td><td>str</td><td>str</td><td>str</td><td>str</td><td>str</td><td>str</td><td>str</td><td>str</td><td>str</td><td>str</td><td>str</td><td>str</td><td>str</td><td>str</td><td>str</td><td>str</td><td>str</td><td>str</td><td>str</td><td>str</td><td>str</td><td>str</td><td>str</td><td>str</td><td>&hellip;</td><td>str</td><td>str</td><td>str</td><td>str</td><td>str</td><td>str</td><td>str</td><td>str</td><td>str</td><td>str</td><td>str</td><td>str</td><td>str</td><td>str</td><td>str</td><td>str</td><td>str</td><td>str</td><td>str</td><td>str</td><td>str</td><td>str</td><td>str</td><td>str</td><td>str</td><td>str</td><td>str</td><td>str</td><td>str</td><td>str</td><td>str</td><td>str</td><td>str</td><td>str</td><td>str</td><td>str</td><td>str</td></tr></thead><tbody><tr><td>&quot;0/0:0,0:0:0:0,0,0&quot;</td><td>&quot;0/0:0,0:0:0:0,0,0&quot;</td><td>&quot;0/0:0,0:0:0:0,0,0&quot;</td><td>&quot;0/0:0,0:0:0:0,0,0&quot;</td><td>&quot;0/0:0,0:0:0:0,0,0&quot;</td><td>&quot;0/0:0,0:0:0:0,0,0&quot;</td><td>&quot;0/0:0,0:0:0:0,0,0&quot;</td><td>&quot;0/0:0,0:0:0:0,0,0&quot;</td><td>&quot;0/0:0,0:0:0:0,0,0&quot;</td><td>&quot;0/0:0,0:0:0:0,0,0&quot;</td><td>&quot;0/0:0,0:0:0:0,0,0&quot;</td><td>&quot;0/0:0,0:0:0:0,0,0&quot;</td><td>&quot;0/0:0,0:0:0:0,0,0&quot;</td><td>&quot;0/0:0,0:0:0:0,0,0&quot;</td><td>&quot;0/0:0,0:0:0:0,0,0&quot;</td><td>&quot;0/0:0,0:0:0:0,0,0&quot;</td><td>&quot;0/0:0,0:0:0:0,0,0&quot;</td><td>&quot;0/0:0,0:0:0:0,0,0&quot;</td><td>&quot;0/0:0,0:0:0:0,0,0&quot;</td><td>&quot;0/0:0,0:0:0:0,0,0&quot;</td><td>&quot;0/0:0,0:0:0:0,0,0&quot;</td><td>&quot;0/0:0,0:0:0:0,0,0&quot;</td><td>&quot;0/0:0,0:0:0:0,0,0&quot;</td><td>&quot;0/0:0,0:0:0:0,0,0&quot;</td><td>&quot;0/0:0,0:0:0:0,0,0&quot;</td><td>&quot;0/0:0,0:0:0:0,0,0&quot;</td><td>&quot;0/0:0,0:0:0:0,0,0&quot;</td><td>&quot;0/0:0,0:0:0:0,0,0&quot;</td><td>&quot;0/0:0,0:0:0:0,0,0&quot;</td><td>&quot;0/0:0,0:0:0:0,0,0&quot;</td><td>&quot;0/0:0,0:0:0:0,0,0&quot;</td><td>&quot;0/0:0,0:0:0:0,0,0&quot;</td><td>&quot;0/0:0,0:0:0:0,0,0&quot;</td><td>&quot;0/0:0,0:0:0:0,0,0&quot;</td><td>&quot;0/0:0,0:0:0:0,0,0&quot;</td><td>&quot;0/0:0,0:0:0:0,0,0&quot;</td><td>&quot;0/0:0,0:0:0:0,0,0&quot;</td><td>&hellip;</td><td>&quot;0/0:0,0:0:0:0,0,0&quot;</td><td>&quot;0/0:0,0:0:0:0,0,0&quot;</td><td>&quot;0/0:0,0:0:0:0,0,0&quot;</td><td>&quot;0/0:0,0:0:0:0,0,0&quot;</td><td>&quot;0/0:0,0:0:0:0,0,0&quot;</td><td>&quot;0/0:0,0:0:0:0,0,0&quot;</td><td>&quot;0/0:0,0:0:0:0,0,0&quot;</td><td>&quot;0/0:0,0:0:0:0,0,0&quot;</td><td>&quot;0/0:0,0:0:0:0,0,0&quot;</td><td>&quot;0/0:0,0:0:0:0,0,0&quot;</td><td>&quot;0/0:0,0:0:0:0,0,0&quot;</td><td>&quot;0/0:0,0:0:0:0,0,0&quot;</td><td>&quot;0/0:0,0:0:0:0,0,0&quot;</td><td>&quot;0/0:0,0:0:0:0,0,0&quot;</td><td>&quot;0/0:0,0:0:0:0,0,0&quot;</td><td>&quot;0/0:0,0:0:0:0,0,0&quot;</td><td>&quot;0/0:0,0:0:0:0,0,0&quot;</td><td>&quot;0/0:0,0:0:0:0,0,0&quot;</td><td>&quot;0/0:0,0:0:0:0,0,0&quot;</td><td>&quot;0/0:0,0:0:0:0,0,0&quot;</td><td>&quot;0/0:0,0:0:0:0,0,0&quot;</td><td>&quot;0/0:0,0:0:0:0,0,0&quot;</td><td>&quot;0/0:0,0:0:0:0,0,0&quot;</td><td>&quot;0/0:0,0:0:0:0,0,0&quot;</td><td>&quot;0/0:0,0:0:0:0,0,0&quot;</td><td>&quot;0/0:0,0:0:0:0,0,0&quot;</td><td>&quot;0/0:0,0:0:0:0,0,0&quot;</td><td>&quot;0/0:0,0:0:0:0,0,0&quot;</td><td>&quot;0/0:0,0:0:0:0,0,0&quot;</td><td>&quot;0/0:0,0:0:0:0,0,0&quot;</td><td>&quot;0/0:0,0:0:0:0,0,0&quot;</td><td>&quot;0/0:0,0:0:0:0,0,0&quot;</td><td>&quot;0/0:0,0:0:0:0,0,0&quot;</td><td>&quot;0/0:0,0:0:0:0,0,0&quot;</td><td>&quot;0/0:0,0:0:0:0,0,0&quot;</td><td>&quot;0/0:0,0:0:0:0,0,0&quot;</td><td>&quot;1/1:0,2:2:6:49,6,0&quot;</td></tr><tr><td>&quot;0/0:0,0:0:0:0,0,0&quot;</td><td>&quot;0/0:0,0:0:0:0,0,0&quot;</td><td>&quot;0/0:0,0:0:0:0,0,0&quot;</td><td>&quot;0/0:0,0:0:0:0,0,0&quot;</td><td>&quot;0/0:0,0:0:0:0,0,0&quot;</td><td>&quot;0/0:0,0:0:0:0,0,0&quot;</td><td>&quot;0/0:0,0:0:0:0,0,0&quot;</td><td>&quot;0/0:0,0:0:0:0,0,0&quot;</td><td>&quot;0/0:0,0:0:0:0,0,0&quot;</td><td>&quot;0/0:0,0:0:0:0,0,0&quot;</td><td>&quot;0/0:0,0:0:0:0,0,0&quot;</td><td>&quot;1/1:0,3:3:9:74,9,0&quot;</td><td>&quot;0/0:0,0:0:0:0,0,0&quot;</td><td>&quot;0/0:0,0:0:0:0,0,0&quot;</td><td>&quot;0/0:0,0:0:0:0,0,0&quot;</td><td>&quot;0/0:0,0:0:0:0,0,0&quot;</td><td>&quot;0/0:0,0:0:0:0,0,0&quot;</td><td>&quot;0/0:0,0:0:0:0,0,0&quot;</td><td>&quot;0/0:0,0:0:0:0,0,0&quot;</td><td>&quot;0/0:0,0:0:0:0,0,0&quot;</td><td>&quot;0/0:0,0:0:0:0,0,0&quot;</td><td>&quot;0/0:0,0:0:0:0,0,0&quot;</td><td>&quot;1/1:0,1:1:3:25,3,0&quot;</td><td>&quot;0/0:0,0:0:0:0,0,0&quot;</td><td>&quot;0/0:0,0:0:0:0,0,0&quot;</td><td>&quot;0/0:0,0:0:0:0,0,0&quot;</td><td>&quot;0/0:0,0:0:0:0,0,0&quot;</td><td>&quot;0/0:0,0:0:0:0,0,0&quot;</td><td>&quot;0/0:0,0:0:0:0,0,0&quot;</td><td>&quot;0/0:0,0:0:0:0,0,0&quot;</td><td>&quot;0/0:0,0:0:0:0,0,0&quot;</td><td>&quot;0/0:0,0:0:0:0,0,0&quot;</td><td>&quot;0/0:0,0:0:0:0,0,0&quot;</td><td>&quot;0/0:0,0:0:0:0,0,0&quot;</td><td>&quot;0/0:1,0:1:0:0,0,0&quot;</td><td>&quot;0/0:0,0:0:0:0,0,0&quot;</td><td>&quot;0/0:0,0:0:0:0,0,0&quot;</td><td>&hellip;</td><td>&quot;0/0:0,0:0:0:0,0,0&quot;</td><td>&quot;0/0:0,0:0:0:0,0,0&quot;</td><td>&quot;0/0:0,0:0:0:0,0,0&quot;</td><td>&quot;0/0:0,0:0:0:0,0,0&quot;</td><td>&quot;0/0:2,0:2:0:0,0,0&quot;</td><td>&quot;0/0:0,0:0:0:0,0,0&quot;</td><td>&quot;0/0:0,0:0:0:0,0,0&quot;</td><td>&quot;0/0:0,0:0:0:0,0,0&quot;</td><td>&quot;0/0:0,0:0:0:0,0,0&quot;</td><td>&quot;0/0:0,0:0:0:0,0,0&quot;</td><td>&quot;0/0:0,0:0:0:0,0,0&quot;</td><td>&quot;0/0:0,0:0:0:0,0,0&quot;</td><td>&quot;0/0:0,0:0:0:0,0,0&quot;</td><td>&quot;0/0:0,0:0:0:0,0,0&quot;</td><td>&quot;0/0:0,0:0:0:0,0,0&quot;</td><td>&quot;0/0:0,0:0:0:0,0,0&quot;</td><td>&quot;0/0:0,0:0:0:0,0,0&quot;</td><td>&quot;0/0:0,0:0:0:0,0,0&quot;</td><td>&quot;0/0:0,0:0:0:0,0,0&quot;</td><td>&quot;0/0:0,0:0:0:0,0,0&quot;</td><td>&quot;0/0:0,0:0:0:0,0,0&quot;</td><td>&quot;0/0:0,0:0:0:0,0,0&quot;</td><td>&quot;0/0:0,0:0:0:0,0,0&quot;</td><td>&quot;0/0:0,0:0:0:0,0,0&quot;</td><td>&quot;0/0:0,0:0:0:0,0,0&quot;</td><td>&quot;0/0:0,0:0:0:0,0,0&quot;</td><td>&quot;0/0:0,0:0:0:0,0,0&quot;</td><td>&quot;0/0:0,0:0:0:0,0,0&quot;</td><td>&quot;0/0:0,0:0:0:0,0,0&quot;</td><td>&quot;0/0:0,0:0:0:0,0,0&quot;</td><td>&quot;0/0:0,0:0:0:0,0,0&quot;</td><td>&quot;0/0:0,0:0:0:0,0,0&quot;</td><td>&quot;0/0:0,0:0:0:0,0,0&quot;</td><td>&quot;0/0:0,0:0:0:0,0,0&quot;</td><td>&quot;0/0:0,0:0:0:0,0,0&quot;</td><td>&quot;0/0:0,0:0:0:0,0,0&quot;</td><td>&quot;0/0:0,0:0:0:0,0,0&quot;</td></tr><tr><td>&quot;0/0:0,0:0:0:0,0,0&quot;</td><td>&quot;0/0:0,0:0:0:0,0,0&quot;</td><td>&quot;0/0:0,0:0:0:0,0,0&quot;</td><td>&quot;0/0:0,0:0:0:0,0,0&quot;</td><td>&quot;0/0:0,0:0:0:0,0,0&quot;</td><td>&quot;0/0:0,0:0:0:0,0,0&quot;</td><td>&quot;0/0:0,0:0:0:0,0,0&quot;</td><td>&quot;0/0:0,0:0:0:0,0,0&quot;</td><td>&quot;0/0:0,0:0:0:0,0,0&quot;</td><td>&quot;0/0:0,0:0:0:0,0,0&quot;</td><td>&quot;0/0:0,0:0:0:0,0,0&quot;</td><td>&quot;0/0:0,0:0:0:0,0,0&quot;</td><td>&quot;0/0:0,0:0:0:0,0,0&quot;</td><td>&quot;0/0:0,0:0:0:0,0,0&quot;</td><td>&quot;0/0:0,0:0:0:0,0,0&quot;</td><td>&quot;0/0:0,0:0:0:0,0,0&quot;</td><td>&quot;0/0:0,0:0:0:0,0,0&quot;</td><td>&quot;0/0:0,0:0:0:0,0,0&quot;</td><td>&quot;0/0:0,0:0:0:0,0,0&quot;</td><td>&quot;0/0:0,0:0:0:0,0,0&quot;</td><td>&quot;0/0:0,0:0:0:0,0,0&quot;</td><td>&quot;0/0:0,0:0:0:0,0,0&quot;</td><td>&quot;0/0:0,0:0:0:0,0,0&quot;</td><td>&quot;0/0:0,0:0:0:0,0,0&quot;</td><td>&quot;0/0:0,0:0:0:0,0,0&quot;</td><td>&quot;0/0:0,0:0:0:0,0,0&quot;</td><td>&quot;0/0:0,0:0:0:0,0,0&quot;</td><td>&quot;0/0:0,0:0:0:0,0,0&quot;</td><td>&quot;0/0:0,0:0:0:0,0,0&quot;</td><td>&quot;0/0:0,0:0:0:0,0,0&quot;</td><td>&quot;0/0:0,0:0:0:0,0,0&quot;</td><td>&quot;0/0:0,0:0:0:0,0,0&quot;</td><td>&quot;0/0:0,0:0:0:0,0,0&quot;</td><td>&quot;0/0:0,0:0:0:0,0,0&quot;</td><td>&quot;0/0:0,0:0:0:0,0,0&quot;</td><td>&quot;0/0:0,0:0:0:0,0,0&quot;</td><td>&quot;0/0:0,0:0:0:0,0,0&quot;</td><td>&hellip;</td><td>&quot;0/0:0,0:0:0:0,0,0&quot;</td><td>&quot;0/0:0,0:0:0:0,0,0&quot;</td><td>&quot;0/0:0,0:0:0:0,0,0&quot;</td><td>&quot;0/0:0,0:0:0:0,0,0&quot;</td><td>&quot;0/0:0,0:0:0:0,0,0&quot;</td><td>&quot;0/0:0,0:0:0:0,0,0&quot;</td><td>&quot;0/0:0,0:0:0:0,0,0&quot;</td><td>&quot;0/0:0,0:0:0:0,0,0&quot;</td><td>&quot;0/0:0,0:0:0:0,0,0&quot;</td><td>&quot;0/0:0,0:0:0:0,0,0&quot;</td><td>&quot;0/0:0,0:0:0:0,0,0&quot;</td><td>&quot;0/0:0,0:0:0:0,0,0&quot;</td><td>&quot;0/0:0,0:0:0:0,0,0&quot;</td><td>&quot;0/0:0,0:0:0:0,0,0&quot;</td><td>&quot;0/0:0,0:0:0:0,0,0&quot;</td><td>&quot;0/0:0,0:0:0:0,0,0&quot;</td><td>&quot;0/0:0,0:0:0:0,0,0&quot;</td><td>&quot;0/0:0,0:0:0:0,0,0&quot;</td><td>&quot;0/0:0,0:0:0:0,0,0&quot;</td><td>&quot;0/0:0,0:0:0:0,0,0&quot;</td><td>&quot;0/0:0,0:0:0:0,0,0&quot;</td><td>&quot;0/0:0,0:0:0:0,0,0&quot;</td><td>&quot;0/0:0,0:0:0:0,0,0&quot;</td><td>&quot;0/0:0,0:0:0:0,0,0&quot;</td><td>&quot;0/0:0,0:0:0:0,0,0&quot;</td><td>&quot;0/0:0,0:0:0:0,0,0&quot;</td><td>&quot;0/0:0,0:0:0:0,0,0&quot;</td><td>&quot;0/0:0,0:0:0:0,0,0&quot;</td><td>&quot;0/0:0,0:0:0:0,0,0&quot;</td><td>&quot;0/0:0,0:0:0:0,0,0&quot;</td><td>&quot;0/0:0,0:0:0:0,0,0&quot;</td><td>&quot;1/1:0,1:1:3:25,3,0&quot;</td><td>&quot;0/0:0,0:0:0:0,0,0&quot;</td><td>&quot;0/0:0,0:0:0:0,0,0&quot;</td><td>&quot;0/0:0,0:0:0:0,0,0&quot;</td><td>&quot;0/0:0,0:0:0:0,0,0&quot;</td><td>&quot;0/0:0,0:0:0:0,0,0&quot;</td></tr><tr><td>&quot;0/0:0,0:0:0:0,0,0&quot;</td><td>&quot;0/0:0,0:0:0:0,0,0&quot;</td><td>&quot;0/0:0,0:0:0:0,0,0&quot;</td><td>&quot;0/0:0,0:0:0:0,0,0&quot;</td><td>&quot;0/0:0,0:0:0:0,0,0&quot;</td><td>&quot;0/0:0,0:0:0:0,0,0&quot;</td><td>&quot;0/0:0,0:0:0:0,0,0&quot;</td><td>&quot;0/0:0,0:0:0:0,0,0&quot;</td><td>&quot;0/0:0,0:0:0:0,0,0&quot;</td><td>&quot;0/0:0,0:0:0:0,0,0&quot;</td><td>&quot;0/0:0,0:0:0:0,0,0&quot;</td><td>&quot;0/0:0,0:0:0:0,0,0&quot;</td><td>&quot;0/0:0,0:0:0:0,0,0&quot;</td><td>&quot;0/0:0,0:0:0:0,0,0&quot;</td><td>&quot;0/0:0,0:0:0:0,0,0&quot;</td><td>&quot;0/0:0,0:0:0:0,0,0&quot;</td><td>&quot;0/0:0,0:0:0:0,0,0&quot;</td><td>&quot;0/0:0,0:0:0:0,0,0&quot;</td><td>&quot;0/0:0,0:0:0:0,0,0&quot;</td><td>&quot;0/0:0,0:0:0:0,0,0&quot;</td><td>&quot;0/0:0,0:0:0:0,0,0&quot;</td><td>&quot;0/0:0,0:0:0:0,0,0&quot;</td><td>&quot;0/0:0,0:0:0:0,0,0&quot;</td><td>&quot;0/0:0,0:0:0:0,0,0&quot;</td><td>&quot;0/0:0,0:0:0:0,0,0&quot;</td><td>&quot;0/0:0,0:0:0:0,0,0&quot;</td><td>&quot;0/0:0,0:0:0:0,0,0&quot;</td><td>&quot;0/0:0,0:0:0:0,0,0&quot;</td><td>&quot;0/0:0,0:0:0:0,0,0&quot;</td><td>&quot;0/0:0,0:0:0:0,0,0&quot;</td><td>&quot;0/0:0,0:0:0:0,0,0&quot;</td><td>&quot;0/0:0,0:0:0:0,0,0&quot;</td><td>&quot;0/0:0,0:0:0:0,0,0&quot;</td><td>&quot;0/0:0,0:0:0:0,0,0&quot;</td><td>&quot;0/0:0,0:0:0:0,0,0&quot;</td><td>&quot;0/0:0,0:0:0:0,0,0&quot;</td><td>&quot;0/0:0,0:0:0:0,0,0&quot;</td><td>&hellip;</td><td>&quot;0/0:0,0:0:0:0,0,0&quot;</td><td>&quot;0/0:0,0:0:0:0,0,0&quot;</td><td>&quot;0/0:0,0:0:0:0,0,0&quot;</td><td>&quot;0/0:0,0:0:0:0,0,0&quot;</td><td>&quot;0/0:0,0:0:0:0,0,0&quot;</td><td>&quot;0/0:0,0:0:0:0,0,0&quot;</td><td>&quot;0/0:0,0:0:0:0,0,0&quot;</td><td>&quot;0/0:0,0:0:0:0,0,0&quot;</td><td>&quot;0/0:0,0:0:0:0,0,0&quot;</td><td>&quot;0/0:0,0:0:0:0,0,0&quot;</td><td>&quot;0/0:0,0:0:0:0,0,0&quot;</td><td>&quot;0/0:0,0:0:0:0,0,0&quot;</td><td>&quot;0/0:0,0:0:0:0,0,0&quot;</td><td>&quot;0/0:0,0:0:0:0,0,0&quot;</td><td>&quot;0/0:0,0:0:0:0,0,0&quot;</td><td>&quot;0/0:0,0:0:0:0,0,0&quot;</td><td>&quot;0/0:0,0:0:0:0,0,0&quot;</td><td>&quot;0/0:0,0:0:0:0,0,0&quot;</td><td>&quot;0/0:0,0:0:0:0,0,0&quot;</td><td>&quot;0/0:0,0:0:0:0,0,0&quot;</td><td>&quot;0/0:0,0:0:0:0,0,0&quot;</td><td>&quot;0/0:0,0:0:0:0,0,0&quot;</td><td>&quot;0/0:0,0:0:0:0,0,0&quot;</td><td>&quot;0/0:0,0:0:0:0,0,0&quot;</td><td>&quot;0/0:0,0:0:0:0,0,0&quot;</td><td>&quot;0/0:0,0:0:0:0,0,0&quot;</td><td>&quot;0/0:0,0:0:0:0,0,0&quot;</td><td>&quot;0/0:0,0:0:0:0,0,0&quot;</td><td>&quot;0/0:0,0:0:0:0,0,0&quot;</td><td>&quot;0/0:0,0:0:0:0,0,0&quot;</td><td>&quot;0/0:0,0:0:0:0,0,0&quot;</td><td>&quot;0/0:0,0:0:0:0,0,0&quot;</td><td>&quot;0/0:0,0:0:0:0,0,0&quot;</td><td>&quot;0/0:0,0:0:0:0,0,0&quot;</td><td>&quot;1/1:0,2:2:6:65,6,0&quot;</td><td>&quot;0/0:0,0:0:0:0,0,0&quot;</td><td>&quot;0/0:0,0:0:0:0,0,0&quot;</td></tr><tr><td>&quot;0/0:0,0:0:0:0,0,0&quot;</td><td>&quot;0/0:0,0:0:0:0,0,0&quot;</td><td>&quot;0/0:0,0:0:0:0,0,0&quot;</td><td>&quot;0/0:0,0:0:0:0,0,0&quot;</td><td>&quot;0/0:0,0:0:0:0,0,0&quot;</td><td>&quot;0/0:0,0:0:0:0,0,0&quot;</td><td>&quot;0/0:0,0:0:0:0,0,0&quot;</td><td>&quot;0/0:0,0:0:0:0,0,0&quot;</td><td>&quot;0/0:0,0:0:0:0,0,0&quot;</td><td>&quot;0/0:0,0:0:0:0,0,0&quot;</td><td>&quot;0/0:0,0:0:0:0,0,0&quot;</td><td>&quot;0/0:0,0:0:0:0,0,0&quot;</td><td>&quot;0/0:0,0:0:0:0,0,0&quot;</td><td>&quot;0/0:0,0:0:0:0,0,0&quot;</td><td>&quot;0/0:0,0:0:0:0,0,0&quot;</td><td>&quot;0/0:0,0:0:0:0,0,0&quot;</td><td>&quot;0/0:0,0:0:0:0,0,0&quot;</td><td>&quot;0/0:0,0:0:0:0,0,0&quot;</td><td>&quot;0/0:0,0:0:0:0,0,0&quot;</td><td>&quot;0/0:0,0:0:0:0,0,0&quot;</td><td>&quot;0/0:0,0:0:0:0,0,0&quot;</td><td>&quot;0/0:0,0:0:0:0,0,0&quot;</td><td>&quot;0/0:0,0:0:0:0,0,0&quot;</td><td>&quot;0/0:0,0:0:0:0,0,0&quot;</td><td>&quot;0/0:0,0:0:0:0,0,0&quot;</td><td>&quot;0/0:0,0:0:0:0,0,0&quot;</td><td>&quot;0/0:0,0:0:0:0,0,0&quot;</td><td>&quot;0/0:0,0:0:0:0,0,0&quot;</td><td>&quot;0/0:0,0:0:0:0,0,0&quot;</td><td>&quot;0/0:0,0:0:0:0,0,0&quot;</td><td>&quot;0/0:0,0:0:0:0,0,0&quot;</td><td>&quot;0/0:0,0:0:0:0,0,0&quot;</td><td>&quot;0/0:0,0:0:0:0,0,0&quot;</td><td>&quot;0/0:0,0:0:0:0,0,0&quot;</td><td>&quot;0/0:0,0:0:0:0,0,0&quot;</td><td>&quot;0/0:0,0:0:0:0,0,0&quot;</td><td>&quot;0/0:0,0:0:0:0,0,0&quot;</td><td>&hellip;</td><td>&quot;0/0:0,0:0:0:0,0,0&quot;</td><td>&quot;0/0:0,0:0:0:0,0,0&quot;</td><td>&quot;0/0:0,0:0:0:0,0,0&quot;</td><td>&quot;0/0:0,0:0:0:0,0,0&quot;</td><td>&quot;0/0:0,0:0:0:0,0,0&quot;</td><td>&quot;0/0:0,0:0:0:0,0,0&quot;</td><td>&quot;0/0:0,0:0:0:0,0,0&quot;</td><td>&quot;0/0:0,0:0:0:0,0,0&quot;</td><td>&quot;0/0:0,0:0:0:0,0,0&quot;</td><td>&quot;0/0:0,0:0:0:0,0,0&quot;</td><td>&quot;0/0:0,0:0:0:0,0,0&quot;</td><td>&quot;0/0:0,0:0:0:0,0,0&quot;</td><td>&quot;0/0:0,0:0:0:0,0,0&quot;</td><td>&quot;0/0:0,0:0:0:0,0,0&quot;</td><td>&quot;0/0:0,0:0:0:0,0,0&quot;</td><td>&quot;0/0:0,0:0:0:0,0,0&quot;</td><td>&quot;0/0:0,0:0:0:0,0,0&quot;</td><td>&quot;0/0:0,0:0:0:0,0,0&quot;</td><td>&quot;0/0:0,0:0:0:0,0,0&quot;</td><td>&quot;0/0:0,0:0:0:0,0,0&quot;</td><td>&quot;0/0:0,0:0:0:0,0,0&quot;</td><td>&quot;0/0:0,0:0:0:0,0,0&quot;</td><td>&quot;0/0:0,0:0:0:0,0,0&quot;</td><td>&quot;0/0:0,0:0:0:0,0,0&quot;</td><td>&quot;0/0:0,0:0:0:0,0,0&quot;</td><td>&quot;0/0:0,0:0:0:0,0,0&quot;</td><td>&quot;0/0:0,0:0:0:0,0,0&quot;</td><td>&quot;0/0:0,0:0:0:0,0,0&quot;</td><td>&quot;0/0:0,0:0:0:0,0,0&quot;</td><td>&quot;0/0:0,0:0:0:0,0,0&quot;</td><td>&quot;0/0:0,0:0:0:0,0,0&quot;</td><td>&quot;0/0:0,0:0:0:0,0,0&quot;</td><td>&quot;0/0:0,0:0:0:0,0,0&quot;</td><td>&quot;0/0:0,0:0:0:0,0,0&quot;</td><td>&quot;1/1:0,1:1:3:25,3,0&quot;</td><td>&quot;0/0:0,0:0:0:0,0,0&quot;</td><td>&quot;0/0:0,0:0:0:0,0,0&quot;</td></tr><tr><td>&hellip;</td><td>&hellip;</td><td>&hellip;</td><td>&hellip;</td><td>&hellip;</td><td>&hellip;</td><td>&hellip;</td><td>&hellip;</td><td>&hellip;</td><td>&hellip;</td><td>&hellip;</td><td>&hellip;</td><td>&hellip;</td><td>&hellip;</td><td>&hellip;</td><td>&hellip;</td><td>&hellip;</td><td>&hellip;</td><td>&hellip;</td><td>&hellip;</td><td>&hellip;</td><td>&hellip;</td><td>&hellip;</td><td>&hellip;</td><td>&hellip;</td><td>&hellip;</td><td>&hellip;</td><td>&hellip;</td><td>&hellip;</td><td>&hellip;</td><td>&hellip;</td><td>&hellip;</td><td>&hellip;</td><td>&hellip;</td><td>&hellip;</td><td>&hellip;</td><td>&hellip;</td><td>&hellip;</td><td>&hellip;</td><td>&hellip;</td><td>&hellip;</td><td>&hellip;</td><td>&hellip;</td><td>&hellip;</td><td>&hellip;</td><td>&hellip;</td><td>&hellip;</td><td>&hellip;</td><td>&hellip;</td><td>&hellip;</td><td>&hellip;</td><td>&hellip;</td><td>&hellip;</td><td>&hellip;</td><td>&hellip;</td><td>&hellip;</td><td>&hellip;</td><td>&hellip;</td><td>&hellip;</td><td>&hellip;</td><td>&hellip;</td><td>&hellip;</td><td>&hellip;</td><td>&hellip;</td><td>&hellip;</td><td>&hellip;</td><td>&hellip;</td><td>&hellip;</td><td>&hellip;</td><td>&hellip;</td><td>&hellip;</td><td>&hellip;</td><td>&hellip;</td><td>&hellip;</td><td>&hellip;</td></tr><tr><td>&quot;0/0:0,0:0:0:.:.:0,0,0&quot;</td><td>&quot;0/0:0,0:0:0:.:.:0,0,0&quot;</td><td>&quot;0/0:0,0:0:0:.:.:0,0,0&quot;</td><td>&quot;0/0:0,0:0:0:.:.:0,0,0&quot;</td><td>&quot;0/0:0,0:0:0:.:.:0,0,0&quot;</td><td>&quot;0/0:0,0:0:0:.:.:0,0,0&quot;</td><td>&quot;0/0:0,0:0:0:.:.:0,0,0&quot;</td><td>&quot;0/0:0,0:0:0:.:.:0,0,0&quot;</td><td>&quot;0/0:0,0:0:0:.:.:0,0,0&quot;</td><td>&quot;0/0:0,0:0:0:.:.:0,0,0&quot;</td><td>&quot;0/0:0,0:0:0:.:.:0,0,0&quot;</td><td>&quot;0/0:0,0:0:0:.:.:0,0,0&quot;</td><td>&quot;0/0:0,0:0:0:.:.:0,0,0&quot;</td><td>&quot;0/0:0,0:0:0:.:.:0,0,0&quot;</td><td>&quot;0/0:0,0:0:0:.:.:0,0,0&quot;</td><td>&quot;0/0:0,0:0:0:.:.:0,0,0&quot;</td><td>&quot;0/0:0,0:0:0:.:.:0,0,0&quot;</td><td>&quot;0/0:0,0:0:0:.:.:0,0,0&quot;</td><td>&quot;0/0:0,0:0:0:.:.:0,0,0&quot;</td><td>&quot;0/0:0,0:0:0:.:.:0,0,0&quot;</td><td>&quot;0/0:0,0:0:0:.:.:0,0,0&quot;</td><td>&quot;0/0:0,0:0:0:.:.:0,0,0&quot;</td><td>&quot;0/0:0,0:0:0:.:.:0,0,0&quot;</td><td>&quot;0/0:0,0:0:0:.:.:0,0,0&quot;</td><td>&quot;0/0:0,0:0:0:.:.:0,0,0&quot;</td><td>&quot;0/0:0,0:0:0:.:.:0,0,0&quot;</td><td>&quot;0/0:0,0:0:0:.:.:0,0,0&quot;</td><td>&quot;0/0:0,0:0:0:.:.:0,0,0&quot;</td><td>&quot;0/0:0,0:0:0:.:.:0,0,0&quot;</td><td>&quot;0/0:0,0:0:0:.:.:0,0,0&quot;</td><td>&quot;0/0:0,0:0:0:.:.:0,0,0&quot;</td><td>&quot;0/0:0,0:0:0:.:.:0,0,0&quot;</td><td>&quot;0/0:0,0:0:0:.:.:0,0,0&quot;</td><td>&quot;0/0:0,0:0:0:.:.:0,0,0&quot;</td><td>&quot;0/0:0,0:0:0:.:.:0,0,0&quot;</td><td>&quot;0/0:0,0:0:0:.:.:0,0,0&quot;</td><td>&quot;0/0:0,0:0:0:.:.:0,0,0&quot;</td><td>&hellip;</td><td>&quot;0/0:0,0:0:0:.:.:0,0,0&quot;</td><td>&quot;0/0:0,0:0:0:.:.:0,0,0&quot;</td><td>&quot;0/0:0,0:0:0:.:.:0,0,0&quot;</td><td>&quot;0/0:0,0:0:0:.:.:0,0,0&quot;</td><td>&quot;0/0:0,0:0:0:.:.:0,0,0&quot;</td><td>&quot;0/0:0,0:0:0:.:.:0,0,0&quot;</td><td>&quot;0/0:0,0:0:0:.:.:0,0,0&quot;</td><td>&quot;0/0:0,0:0:0:.:.:0,0,0&quot;</td><td>&quot;1|1:0,2:2:6:1|1:90848271_G_A:9…</td><td>&quot;0/0:0,0:0:0:.:.:0,0,0&quot;</td><td>&quot;0/0:0,0:0:0:.:.:0,0,0&quot;</td><td>&quot;0/0:0,0:0:0:.:.:0,0,0&quot;</td><td>&quot;0/0:0,0:0:0:.:.:0,0,0&quot;</td><td>&quot;0/0:0,0:0:0:.:.:0,0,0&quot;</td><td>&quot;0/0:0,0:0:0:.:.:0,0,0&quot;</td><td>&quot;0/0:0,0:0:0:.:.:0,0,0&quot;</td><td>&quot;0/0:0,0:0:0:.:.:0,0,0&quot;</td><td>&quot;0/0:0,0:0:0:.:.:0,0,0&quot;</td><td>&quot;0/0:0,0:0:0:.:.:0,0,0&quot;</td><td>&quot;0/0:0,0:0:0:.:.:0,0,0&quot;</td><td>&quot;0/0:0,0:0:0:.:.:0,0,0&quot;</td><td>&quot;0/0:0,0:0:0:.:.:0,0,0&quot;</td><td>&quot;0/0:0,0:0:0:.:.:0,0,0&quot;</td><td>&quot;0/0:0,0:0:0:.:.:0,0,0&quot;</td><td>&quot;0/0:0,0:0:0:.:.:0,0,0&quot;</td><td>&quot;0/0:0,0:0:0:.:.:0,0,0&quot;</td><td>&quot;0/0:0,0:0:0:.:.:0,0,0&quot;</td><td>&quot;0/0:0,0:0:0:.:.:0,0,0&quot;</td><td>&quot;0/0:0,0:0:0:.:.:0,0,0&quot;</td><td>&quot;0/0:0,0:0:0:.:.:0,0,0&quot;</td><td>&quot;0/0:0,0:0:0:.:.:0,0,0&quot;</td><td>&quot;0/0:0,0:0:0:.:.:0,0,0&quot;</td><td>&quot;0/0:0,0:0:0:.:.:0,0,0&quot;</td><td>&quot;0/0:0,0:0:0:.:.:0,0,0&quot;</td><td>&quot;0/0:0,0:0:0:.:.:0,0,0&quot;</td><td>&quot;0/0:0,0:0:0:.:.:0,0,0&quot;</td><td>&quot;0/0:0,0:0:0:.:.:0,0,0&quot;</td></tr><tr><td>&quot;0/0:0,0:0:0:.:.:0,0,0&quot;</td><td>&quot;0/0:0,0:0:0:.:.:0,0,0&quot;</td><td>&quot;0/0:0,0:0:0:.:.:0,0,0&quot;</td><td>&quot;0/0:0,0:0:0:.:.:0,0,0&quot;</td><td>&quot;0/0:0,0:0:0:.:.:0,0,0&quot;</td><td>&quot;0/0:0,0:0:0:.:.:0,0,0&quot;</td><td>&quot;0/0:0,0:0:0:.:.:0,0,0&quot;</td><td>&quot;0/0:0,0:0:0:.:.:0,0,0&quot;</td><td>&quot;0/0:0,0:0:0:.:.:0,0,0&quot;</td><td>&quot;0/0:0,0:0:0:.:.:0,0,0&quot;</td><td>&quot;0/0:0,0:0:0:.:.:0,0,0&quot;</td><td>&quot;0/0:0,0:0:0:.:.:0,0,0&quot;</td><td>&quot;0/0:0,0:0:0:.:.:0,0,0&quot;</td><td>&quot;0/0:0,0:0:0:.:.:0,0,0&quot;</td><td>&quot;0/0:0,0:0:0:.:.:0,0,0&quot;</td><td>&quot;0/0:0,0:0:0:.:.:0,0,0&quot;</td><td>&quot;0/0:0,0:0:0:.:.:0,0,0&quot;</td><td>&quot;0/0:0,0:0:0:.:.:0,0,0&quot;</td><td>&quot;0/0:0,0:0:0:.:.:0,0,0&quot;</td><td>&quot;0/0:0,0:0:0:.:.:0,0,0&quot;</td><td>&quot;0/0:0,0:0:0:.:.:0,0,0&quot;</td><td>&quot;0/0:0,0:0:0:.:.:0,0,0&quot;</td><td>&quot;0/0:0,0:0:0:.:.:0,0,0&quot;</td><td>&quot;0/0:0,0:0:0:.:.:0,0,0&quot;</td><td>&quot;0/0:0,0:0:0:.:.:0,0,0&quot;</td><td>&quot;0/0:0,0:0:0:.:.:0,0,0&quot;</td><td>&quot;0/0:0,0:0:0:.:.:0,0,0&quot;</td><td>&quot;0/0:0,0:0:0:.:.:0,0,0&quot;</td><td>&quot;0/0:0,0:0:0:.:.:0,0,0&quot;</td><td>&quot;0/0:0,0:0:0:.:.:0,0,0&quot;</td><td>&quot;0/0:0,0:0:0:.:.:0,0,0&quot;</td><td>&quot;0/0:0,0:0:0:.:.:0,0,0&quot;</td><td>&quot;0/0:0,0:0:0:.:.:0,0,0&quot;</td><td>&quot;0/0:0,0:0:0:.:.:0,0,0&quot;</td><td>&quot;0/0:0,0:0:0:.:.:0,0,0&quot;</td><td>&quot;0/0:0,0:0:0:.:.:0,0,0&quot;</td><td>&quot;0/0:0,0:0:0:.:.:0,0,0&quot;</td><td>&hellip;</td><td>&quot;0/0:0,0:0:0:.:.:0,0,0&quot;</td><td>&quot;0/0:0,0:0:0:.:.:0,0,0&quot;</td><td>&quot;0/0:0,0:0:0:.:.:0,0,0&quot;</td><td>&quot;0/0:0,0:0:0:.:.:0,0,0&quot;</td><td>&quot;0/0:0,0:0:0:.:.:0,0,0&quot;</td><td>&quot;0/0:0,0:0:0:.:.:0,0,0&quot;</td><td>&quot;0/0:0,0:0:0:.:.:0,0,0&quot;</td><td>&quot;0/0:0,0:0:0:.:.:0,0,0&quot;</td><td>&quot;1|1:0,2:2:6:1|1:90848271_G_A:9…</td><td>&quot;0/0:0,0:0:0:.:.:0,0,0&quot;</td><td>&quot;0/0:0,0:0:0:.:.:0,0,0&quot;</td><td>&quot;0/0:0,0:0:0:.:.:0,0,0&quot;</td><td>&quot;0/0:0,0:0:0:.:.:0,0,0&quot;</td><td>&quot;0/0:0,0:0:0:.:.:0,0,0&quot;</td><td>&quot;0/0:0,0:0:0:.:.:0,0,0&quot;</td><td>&quot;0/0:0,0:0:0:.:.:0,0,0&quot;</td><td>&quot;0/0:0,0:0:0:.:.:0,0,0&quot;</td><td>&quot;0/0:0,0:0:0:.:.:0,0,0&quot;</td><td>&quot;0/0:0,0:0:0:.:.:0,0,0&quot;</td><td>&quot;0/0:0,0:0:0:.:.:0,0,0&quot;</td><td>&quot;0/0:0,0:0:0:.:.:0,0,0&quot;</td><td>&quot;0/0:0,0:0:0:.:.:0,0,0&quot;</td><td>&quot;0/0:0,0:0:0:.:.:0,0,0&quot;</td><td>&quot;0/0:0,0:0:0:.:.:0,0,0&quot;</td><td>&quot;0/0:0,0:0:0:.:.:0,0,0&quot;</td><td>&quot;0/0:0,0:0:0:.:.:0,0,0&quot;</td><td>&quot;0/0:0,0:0:0:.:.:0,0,0&quot;</td><td>&quot;0/0:0,0:0:0:.:.:0,0,0&quot;</td><td>&quot;0/0:0,0:0:0:.:.:0,0,0&quot;</td><td>&quot;0/0:0,0:0:0:.:.:0,0,0&quot;</td><td>&quot;0/0:0,0:0:0:.:.:0,0,0&quot;</td><td>&quot;0/0:0,0:0:0:.:.:0,0,0&quot;</td><td>&quot;0/0:0,0:0:0:.:.:0,0,0&quot;</td><td>&quot;0/0:0,0:0:0:.:.:0,0,0&quot;</td><td>&quot;0/0:0,0:0:0:.:.:0,0,0&quot;</td><td>&quot;0/0:0,0:0:0:.:.:0,0,0&quot;</td><td>&quot;0/0:0,0:0:0:.:.:0,0,0&quot;</td></tr><tr><td>&quot;0/0:0,0:0:0:0,0,0&quot;</td><td>&quot;0/0:0,0:0:0:0,0,0&quot;</td><td>&quot;0/0:0,0:0:0:0,0,0&quot;</td><td>&quot;0/0:0,0:0:0:0,0,0&quot;</td><td>&quot;0/0:0,0:0:0:0,0,0&quot;</td><td>&quot;0/0:0,0:0:0:0,0,0&quot;</td><td>&quot;0/0:0,0:0:0:0,0,0&quot;</td><td>&quot;0/0:0,0:0:0:0,0,0&quot;</td><td>&quot;0/0:0,0:0:0:0,0,0&quot;</td><td>&quot;0/0:0,0:0:0:0,0,0&quot;</td><td>&quot;0/0:0,0:0:0:0,0,0&quot;</td><td>&quot;0/0:0,0:0:0:0,0,0&quot;</td><td>&quot;0/0:0,0:0:0:0,0,0&quot;</td><td>&quot;0/0:0,0:0:0:0,0,0&quot;</td><td>&quot;0/0:0,0:0:0:0,0,0&quot;</td><td>&quot;0/0:0,0:0:0:0,0,0&quot;</td><td>&quot;0/0:0,0:0:0:0,0,0&quot;</td><td>&quot;0/0:0,0:0:0:0,0,0&quot;</td><td>&quot;0/0:0,0:0:0:0,0,0&quot;</td><td>&quot;0/0:0,0:0:0:0,0,0&quot;</td><td>&quot;0/0:0,0:0:0:0,0,0&quot;</td><td>&quot;0/0:0,0:0:0:0,0,0&quot;</td><td>&quot;0/0:0,0:0:0:0,0,0&quot;</td><td>&quot;0/0:0,0:0:0:0,0,0&quot;</td><td>&quot;0/0:0,0:0:0:0,0,0&quot;</td><td>&quot;0/0:0,0:0:0:0,0,0&quot;</td><td>&quot;0/0:0,0:0:0:0,0,0&quot;</td><td>&quot;0/0:0,0:0:0:0,0,0&quot;</td><td>&quot;0/0:0,0:0:0:0,0,0&quot;</td><td>&quot;0/0:0,0:0:0:0,0,0&quot;</td><td>&quot;0/0:0,0:0:0:0,0,0&quot;</td><td>&quot;0/0:0,0:0:0:0,0,0&quot;</td><td>&quot;0/0:0,0:0:0:0,0,0&quot;</td><td>&quot;0/0:0,0:0:0:0,0,0&quot;</td><td>&quot;0/0:0,0:0:0:0,0,0&quot;</td><td>&quot;0/0:0,0:0:0:0,0,0&quot;</td><td>&quot;0/0:0,0:0:0:0,0,0&quot;</td><td>&hellip;</td><td>&quot;0/0:0,0:0:0:0,0,0&quot;</td><td>&quot;0/0:0,0:0:0:0,0,0&quot;</td><td>&quot;0/0:0,0:0:0:0,0,0&quot;</td><td>&quot;0/0:0,0:0:0:0,0,0&quot;</td><td>&quot;0/0:0,0:0:0:0,0,0&quot;</td><td>&quot;0/0:0,0:0:0:0,0,0&quot;</td><td>&quot;0/0:0,0:0:0:0,0,0&quot;</td><td>&quot;0/0:0,0:0:0:0,0,0&quot;</td><td>&quot;1/1:0,2:2:6:75,6,0&quot;</td><td>&quot;0/0:0,0:0:0:0,0,0&quot;</td><td>&quot;0/0:0,0:0:0:0,0,0&quot;</td><td>&quot;0/0:0,0:0:0:0,0,0&quot;</td><td>&quot;0/0:0,0:0:0:0,0,0&quot;</td><td>&quot;0/0:0,0:0:0:0,0,0&quot;</td><td>&quot;0/0:0,0:0:0:0,0,0&quot;</td><td>&quot;0/0:0,0:0:0:0,0,0&quot;</td><td>&quot;0/0:0,0:0:0:0,0,0&quot;</td><td>&quot;0/0:0,0:0:0:0,0,0&quot;</td><td>&quot;0/0:0,0:0:0:0,0,0&quot;</td><td>&quot;0/0:0,0:0:0:0,0,0&quot;</td><td>&quot;0/0:0,0:0:0:0,0,0&quot;</td><td>&quot;0/0:0,0:0:0:0,0,0&quot;</td><td>&quot;0/0:0,0:0:0:0,0,0&quot;</td><td>&quot;0/0:0,0:0:0:0,0,0&quot;</td><td>&quot;0/0:0,0:0:0:0,0,0&quot;</td><td>&quot;0/0:0,0:0:0:0,0,0&quot;</td><td>&quot;0/0:0,0:0:0:0,0,0&quot;</td><td>&quot;0/0:0,0:0:0:0,0,0&quot;</td><td>&quot;0/0:0,0:0:0:0,0,0&quot;</td><td>&quot;0/0:0,0:0:0:0,0,0&quot;</td><td>&quot;0/0:0,0:0:0:0,0,0&quot;</td><td>&quot;0/0:0,0:0:0:0,0,0&quot;</td><td>&quot;0/0:0,0:0:0:0,0,0&quot;</td><td>&quot;0/0:0,0:0:0:0,0,0&quot;</td><td>&quot;0/0:0,0:0:0:0,0,0&quot;</td><td>&quot;0/0:0,0:0:0:0,0,0&quot;</td><td>&quot;0/0:0,0:0:0:0,0,0&quot;</td></tr><tr><td>&quot;0/0:0,0:0:0:0,0,0&quot;</td><td>&quot;0/0:0,0:0:0:0,0,0&quot;</td><td>&quot;0/0:0,0:0:0:0,0,0&quot;</td><td>&quot;0/0:0,0:0:0:0,0,0&quot;</td><td>&quot;0/0:0,0:0:0:0,0,0&quot;</td><td>&quot;1/1:0,1:1:3:35,3,0&quot;</td><td>&quot;0/0:0,0:0:0:0,0,0&quot;</td><td>&quot;0/0:0,0:0:0:0,0,0&quot;</td><td>&quot;0/0:0,0:0:0:0,0,0&quot;</td><td>&quot;0/0:0,0:0:0:0,0,0&quot;</td><td>&quot;0/0:0,0:0:0:0,0,0&quot;</td><td>&quot;0/0:0,0:0:0:0,0,0&quot;</td><td>&quot;0/0:0,0:0:0:0,0,0&quot;</td><td>&quot;0/0:0,0:0:0:0,0,0&quot;</td><td>&quot;0/0:0,0:0:0:0,0,0&quot;</td><td>&quot;0/0:0,0:0:0:0,0,0&quot;</td><td>&quot;0/0:0,0:0:0:0,0,0&quot;</td><td>&quot;0/0:0,0:0:0:0,0,0&quot;</td><td>&quot;0/0:0,0:0:0:0,0,0&quot;</td><td>&quot;0/0:0,0:0:0:0,0,0&quot;</td><td>&quot;0/0:0,0:0:0:0,0,0&quot;</td><td>&quot;0/0:0,0:0:0:0,0,0&quot;</td><td>&quot;0/0:0,0:0:0:0,0,0&quot;</td><td>&quot;0/0:46,0:46:0:0,0,0&quot;</td><td>&quot;0/0:0,0:0:0:0,0,0&quot;</td><td>&quot;0/0:0,0:0:0:0,0,0&quot;</td><td>&quot;0/0:0,0:0:0:0,0,0&quot;</td><td>&quot;0/0:0,0:0:0:0,0,0&quot;</td><td>&quot;0/0:0,0:0:0:0,0,0&quot;</td><td>&quot;0/0:0,0:0:0:0,0,0&quot;</td><td>&quot;0/0:0,0:0:0:0,0,0&quot;</td><td>&quot;0/0:0,0:0:0:0,0,0&quot;</td><td>&quot;0/0:0,0:0:0:0,0,0&quot;</td><td>&quot;0/0:0,0:0:0:0,0,0&quot;</td><td>&quot;0/0:0,0:0:0:0,0,0&quot;</td><td>&quot;0/0:0,0:0:0:0,0,0&quot;</td><td>&quot;0/0:0,0:0:0:0,0,0&quot;</td><td>&hellip;</td><td>&quot;0/0:0,0:0:0:0,0,0&quot;</td><td>&quot;0/0:0,0:0:0:0,0,0&quot;</td><td>&quot;0/0:0,0:0:0:0,0,0&quot;</td><td>&quot;0/0:0,0:0:0:0,0,0&quot;</td><td>&quot;0/0:0,0:0:0:0,0,0&quot;</td><td>&quot;0/0:0,0:0:0:0,0,0&quot;</td><td>&quot;0/0:0,0:0:0:0,0,0&quot;</td><td>&quot;0/0:0,0:0:0:0,0,0&quot;</td><td>&quot;0/0:0,0:0:0:0,0,0&quot;</td><td>&quot;0/0:0,0:0:0:0,0,0&quot;</td><td>&quot;0/0:0,0:0:0:0,0,0&quot;</td><td>&quot;0/0:0,0:0:0:0,0,0&quot;</td><td>&quot;0/0:0,0:0:0:0,0,0&quot;</td><td>&quot;0/0:0,0:0:0:0,0,0&quot;</td><td>&quot;0/0:0,0:0:0:0,0,0&quot;</td><td>&quot;0/0:0,0:0:0:0,0,0&quot;</td><td>&quot;0/0:0,0:0:0:0,0,0&quot;</td><td>&quot;0/0:0,0:0:0:0,0,0&quot;</td><td>&quot;0/0:0,0:0:0:0,0,0&quot;</td><td>&quot;0/0:0,0:0:0:0,0,0&quot;</td><td>&quot;0/0:0,0:0:0:0,0,0&quot;</td><td>&quot;0/0:0,0:0:0:0,0,0&quot;</td><td>&quot;0/0:0,0:0:0:0,0,0&quot;</td><td>&quot;0/0:0,0:0:0:0,0,0&quot;</td><td>&quot;0/0:0,0:0:0:0,0,0&quot;</td><td>&quot;0/0:0,0:0:0:0,0,0&quot;</td><td>&quot;0/0:0,0:0:0:0,0,0&quot;</td><td>&quot;0/0:0,0:0:0:0,0,0&quot;</td><td>&quot;0/0:0,0:0:0:0,0,0&quot;</td><td>&quot;0/0:0,0:0:0:0,0,0&quot;</td><td>&quot;0/0:0,0:0:0:0,0,0&quot;</td><td>&quot;0/0:0,0:0:0:0,0,0&quot;</td><td>&quot;0/0:0,0:0:0:0,0,0&quot;</td><td>&quot;0/0:0,0:0:0:0,0,0&quot;</td><td>&quot;0/0:0,0:0:0:0,0,0&quot;</td><td>&quot;0/0:0,0:0:0:0,0,0&quot;</td><td>&quot;0/0:0,0:0:0:0,0,0&quot;</td></tr><tr><td>&quot;0/0:0,0:0:0:0,0,0&quot;</td><td>&quot;0/0:0,0:0:0:0,0,0&quot;</td><td>&quot;0/0:0,0:0:0:0,0,0&quot;</td><td>&quot;0/0:0,0:0:0:0,0,0&quot;</td><td>&quot;0/0:0,0:0:0:0,0,0&quot;</td><td>&quot;1/1:0,2:2:6:73,6,0&quot;</td><td>&quot;0/0:0,0:0:0:0,0,0&quot;</td><td>&quot;0/0:0,0:0:0:0,0,0&quot;</td><td>&quot;0/0:0,0:0:0:0,0,0&quot;</td><td>&quot;0/0:0,0:0:0:0,0,0&quot;</td><td>&quot;0/0:0,0:0:0:0,0,0&quot;</td><td>&quot;0/0:0,0:0:0:0,0,0&quot;</td><td>&quot;0/0:0,0:0:0:0,0,0&quot;</td><td>&quot;0/0:0,0:0:0:0,0,0&quot;</td><td>&quot;0/0:0,0:0:0:0,0,0&quot;</td><td>&quot;0/0:0,0:0:0:0,0,0&quot;</td><td>&quot;0/0:0,0:0:0:0,0,0&quot;</td><td>&quot;0/0:0,0:0:0:0,0,0&quot;</td><td>&quot;0/0:0,0:0:0:0,0,0&quot;</td><td>&quot;0/0:0,0:0:0:0,0,0&quot;</td><td>&quot;0/0:0,0:0:0:0,0,0&quot;</td><td>&quot;0/0:0,0:0:0:0,0,0&quot;</td><td>&quot;0/0:0,0:0:0:0,0,0&quot;</td><td>&quot;1/1:0,14:14:42:478,42,0&quot;</td><td>&quot;0/0:0,0:0:0:0,0,0&quot;</td><td>&quot;0/0:0,0:0:0:0,0,0&quot;</td><td>&quot;0/0:0,0:0:0:0,0,0&quot;</td><td>&quot;0/0:0,0:0:0:0,0,0&quot;</td><td>&quot;0/0:0,0:0:0:0,0,0&quot;</td><td>&quot;0/0:0,0:0:0:0,0,0&quot;</td><td>&quot;0/0:0,0:0:0:0,0,0&quot;</td><td>&quot;0/0:0,0:0:0:0,0,0&quot;</td><td>&quot;0/0:0,0:0:0:0,0,0&quot;</td><td>&quot;0/0:0,0:0:0:0,0,0&quot;</td><td>&quot;0/0:0,0:0:0:0,0,0&quot;</td><td>&quot;0/0:0,0:0:0:0,0,0&quot;</td><td>&quot;0/0:0,0:0:0:0,0,0&quot;</td><td>&hellip;</td><td>&quot;0/0:0,0:0:0:0,0,0&quot;</td><td>&quot;0/0:0,0:0:0:0,0,0&quot;</td><td>&quot;0/0:0,0:0:0:0,0,0&quot;</td><td>&quot;0/0:0,0:0:0:0,0,0&quot;</td><td>&quot;0/0:0,0:0:0:0,0,0&quot;</td><td>&quot;0/0:0,0:0:0:0,0,0&quot;</td><td>&quot;0/0:0,0:0:0:0,0,0&quot;</td><td>&quot;0/0:0,0:0:0:0,0,0&quot;</td><td>&quot;0/0:0,0:0:0:0,0,0&quot;</td><td>&quot;0/0:0,0:0:0:0,0,0&quot;</td><td>&quot;0/0:0,0:0:0:0,0,0&quot;</td><td>&quot;0/0:0,0:0:0:0,0,0&quot;</td><td>&quot;0/0:0,0:0:0:0,0,0&quot;</td><td>&quot;0/0:0,0:0:0:0,0,0&quot;</td><td>&quot;0/0:0,0:0:0:0,0,0&quot;</td><td>&quot;0/0:0,0:0:0:0,0,0&quot;</td><td>&quot;0/0:0,0:0:0:0,0,0&quot;</td><td>&quot;0/0:1,0:1:0:0,0,0&quot;</td><td>&quot;0/0:0,0:0:0:0,0,0&quot;</td><td>&quot;0/0:0,0:0:0:0,0,0&quot;</td><td>&quot;0/0:0,0:0:0:0,0,0&quot;</td><td>&quot;0/0:0,0:0:0:0,0,0&quot;</td><td>&quot;0/0:0,0:0:0:0,0,0&quot;</td><td>&quot;0/0:0,0:0:0:0,0,0&quot;</td><td>&quot;0/0:0,0:0:0:0,0,0&quot;</td><td>&quot;0/0:0,0:0:0:0,0,0&quot;</td><td>&quot;0/0:0,0:0:0:0,0,0&quot;</td><td>&quot;0/0:0,0:0:0:0,0,0&quot;</td><td>&quot;0/0:0,0:0:0:0,0,0&quot;</td><td>&quot;0/0:0,0:0:0:0,0,0&quot;</td><td>&quot;0/0:0,0:0:0:0,0,0&quot;</td><td>&quot;0/0:0,0:0:0:0,0,0&quot;</td><td>&quot;0/0:0,0:0:0:0,0,0&quot;</td><td>&quot;0/0:0,0:0:0:0,0,0&quot;</td><td>&quot;0/0:0,0:0:0:0,0,0&quot;</td><td>&quot;0/0:0,0:0:0:0,0,0&quot;</td><td>&quot;0/0:0,0:0:0:0,0,0&quot;</td></tr></tbody></table></div>"
      ],
      "text/plain": [
       "shape: (476_430, 96)\n",
       "┌───────────┬───────────┬───────────┬───────────┬───┬───────────┬───────────┬───────────┬──────────┐\n",
       "│ 107_P06_A ┆ 107_P06_A ┆ 107_P06_A ┆ 107_P06_A ┆ … ┆ 107_P06_H ┆ 107_P06_H ┆ 107_P06_H ┆ 107_P06_ │\n",
       "│ 01        ┆ 02        ┆ 03        ┆ 04        ┆   ┆ 09        ┆ 10        ┆ 11        ┆ H12      │\n",
       "│ ---       ┆ ---       ┆ ---       ┆ ---       ┆   ┆ ---       ┆ ---       ┆ ---       ┆ ---      │\n",
       "│ str       ┆ str       ┆ str       ┆ str       ┆   ┆ str       ┆ str       ┆ str       ┆ str      │\n",
       "╞═══════════╪═══════════╪═══════════╪═══════════╪═══╪═══════════╪═══════════╪═══════════╪══════════╡\n",
       "│ 0/0:0,0:0 ┆ 0/0:0,0:0 ┆ 0/0:0,0:0 ┆ 0/0:0,0:0 ┆ … ┆ 0/0:0,0:0 ┆ 0/0:0,0:0 ┆ 0/0:0,0:0 ┆ 1/1:0,2: │\n",
       "│ :0:0,0,0  ┆ :0:0,0,0  ┆ :0:0,0,0  ┆ :0:0,0,0  ┆   ┆ :0:0,0,0  ┆ :0:0,0,0  ┆ :0:0,0,0  ┆ 2:6:49,6 │\n",
       "│           ┆           ┆           ┆           ┆   ┆           ┆           ┆           ┆ ,0       │\n",
       "│ 0/0:0,0:0 ┆ 0/0:0,0:0 ┆ 0/0:0,0:0 ┆ 0/0:0,0:0 ┆ … ┆ 0/0:0,0:0 ┆ 0/0:0,0:0 ┆ 0/0:0,0:0 ┆ 0/0:0,0: │\n",
       "│ :0:0,0,0  ┆ :0:0,0,0  ┆ :0:0,0,0  ┆ :0:0,0,0  ┆   ┆ :0:0,0,0  ┆ :0:0,0,0  ┆ :0:0,0,0  ┆ 0:0:0,0, │\n",
       "│           ┆           ┆           ┆           ┆   ┆           ┆           ┆           ┆ 0        │\n",
       "│ 0/0:0,0:0 ┆ 0/0:0,0:0 ┆ 0/0:0,0:0 ┆ 0/0:0,0:0 ┆ … ┆ 0/0:0,0:0 ┆ 0/0:0,0:0 ┆ 0/0:0,0:0 ┆ 0/0:0,0: │\n",
       "│ :0:0,0,0  ┆ :0:0,0,0  ┆ :0:0,0,0  ┆ :0:0,0,0  ┆   ┆ :0:0,0,0  ┆ :0:0,0,0  ┆ :0:0,0,0  ┆ 0:0:0,0, │\n",
       "│           ┆           ┆           ┆           ┆   ┆           ┆           ┆           ┆ 0        │\n",
       "│ 0/0:0,0:0 ┆ 0/0:0,0:0 ┆ 0/0:0,0:0 ┆ 0/0:0,0:0 ┆ … ┆ 0/0:0,0:0 ┆ 1/1:0,2:2 ┆ 0/0:0,0:0 ┆ 0/0:0,0: │\n",
       "│ :0:0,0,0  ┆ :0:0,0,0  ┆ :0:0,0,0  ┆ :0:0,0,0  ┆   ┆ :0:0,0,0  ┆ :6:65,6,0 ┆ :0:0,0,0  ┆ 0:0:0,0, │\n",
       "│           ┆           ┆           ┆           ┆   ┆           ┆           ┆           ┆ 0        │\n",
       "│ 0/0:0,0:0 ┆ 0/0:0,0:0 ┆ 0/0:0,0:0 ┆ 0/0:0,0:0 ┆ … ┆ 0/0:0,0:0 ┆ 1/1:0,1:1 ┆ 0/0:0,0:0 ┆ 0/0:0,0: │\n",
       "│ :0:0,0,0  ┆ :0:0,0,0  ┆ :0:0,0,0  ┆ :0:0,0,0  ┆   ┆ :0:0,0,0  ┆ :3:25,3,0 ┆ :0:0,0,0  ┆ 0:0:0,0, │\n",
       "│           ┆           ┆           ┆           ┆   ┆           ┆           ┆           ┆ 0        │\n",
       "│ …         ┆ …         ┆ …         ┆ …         ┆ … ┆ …         ┆ …         ┆ …         ┆ …        │\n",
       "│ 0/0:0,0:0 ┆ 0/0:0,0:0 ┆ 0/0:0,0:0 ┆ 0/0:0,0:0 ┆ … ┆ 0/0:0,0:0 ┆ 0/0:0,0:0 ┆ 0/0:0,0:0 ┆ 0/0:0,0: │\n",
       "│ :0:.:.:0, ┆ :0:.:.:0, ┆ :0:.:.:0, ┆ :0:.:.:0, ┆   ┆ :0:.:.:0, ┆ :0:.:.:0, ┆ :0:.:.:0, ┆ 0:0:.:.: │\n",
       "│ 0,0       ┆ 0,0       ┆ 0,0       ┆ 0,0       ┆   ┆ 0,0       ┆ 0,0       ┆ 0,0       ┆ 0,0,0    │\n",
       "│ 0/0:0,0:0 ┆ 0/0:0,0:0 ┆ 0/0:0,0:0 ┆ 0/0:0,0:0 ┆ … ┆ 0/0:0,0:0 ┆ 0/0:0,0:0 ┆ 0/0:0,0:0 ┆ 0/0:0,0: │\n",
       "│ :0:.:.:0, ┆ :0:.:.:0, ┆ :0:.:.:0, ┆ :0:.:.:0, ┆   ┆ :0:.:.:0, ┆ :0:.:.:0, ┆ :0:.:.:0, ┆ 0:0:.:.: │\n",
       "│ 0,0       ┆ 0,0       ┆ 0,0       ┆ 0,0       ┆   ┆ 0,0       ┆ 0,0       ┆ 0,0       ┆ 0,0,0    │\n",
       "│ 0/0:0,0:0 ┆ 0/0:0,0:0 ┆ 0/0:0,0:0 ┆ 0/0:0,0:0 ┆ … ┆ 0/0:0,0:0 ┆ 0/0:0,0:0 ┆ 0/0:0,0:0 ┆ 0/0:0,0: │\n",
       "│ :0:0,0,0  ┆ :0:0,0,0  ┆ :0:0,0,0  ┆ :0:0,0,0  ┆   ┆ :0:0,0,0  ┆ :0:0,0,0  ┆ :0:0,0,0  ┆ 0:0:0,0, │\n",
       "│           ┆           ┆           ┆           ┆   ┆           ┆           ┆           ┆ 0        │\n",
       "│ 0/0:0,0:0 ┆ 0/0:0,0:0 ┆ 0/0:0,0:0 ┆ 0/0:0,0:0 ┆ … ┆ 0/0:0,0:0 ┆ 0/0:0,0:0 ┆ 0/0:0,0:0 ┆ 0/0:0,0: │\n",
       "│ :0:0,0,0  ┆ :0:0,0,0  ┆ :0:0,0,0  ┆ :0:0,0,0  ┆   ┆ :0:0,0,0  ┆ :0:0,0,0  ┆ :0:0,0,0  ┆ 0:0:0,0, │\n",
       "│           ┆           ┆           ┆           ┆   ┆           ┆           ┆           ┆ 0        │\n",
       "│ 0/0:0,0:0 ┆ 0/0:0,0:0 ┆ 0/0:0,0:0 ┆ 0/0:0,0:0 ┆ … ┆ 0/0:0,0:0 ┆ 0/0:0,0:0 ┆ 0/0:0,0:0 ┆ 0/0:0,0: │\n",
       "│ :0:0,0,0  ┆ :0:0,0,0  ┆ :0:0,0,0  ┆ :0:0,0,0  ┆   ┆ :0:0,0,0  ┆ :0:0,0,0  ┆ :0:0,0,0  ┆ 0:0:0,0, │\n",
       "│           ┆           ┆           ┆           ┆   ┆           ┆           ┆           ┆ 0        │\n",
       "└───────────┴───────────┴───────────┴───────────┴───┴───────────┴───────────┴───────────┴──────────┘"
      ]
     },
     "execution_count": 9,
     "metadata": {},
     "output_type": "execute_result"
    }
   ],
   "source": [
    "samples_dataframe"
   ]
  },
  {
   "cell_type": "code",
   "execution_count": 10,
   "metadata": {},
   "outputs": [],
   "source": [
    "from copy import deepcopy"
   ]
  },
  {
   "cell_type": "code",
   "execution_count": 11,
   "metadata": {},
   "outputs": [],
   "source": [
    "df_test = deepcopy(samples_dataframe)"
   ]
  },
  {
   "cell_type": "code",
   "execution_count": 12,
   "metadata": {},
   "outputs": [],
   "source": [
    "df_test = df_test.with_columns(\n",
    "    pl.all().map_elements(lambda x: x[:3], return_dtype=pl.String)\n",
    "    )"
   ]
  },
  {
   "cell_type": "code",
   "execution_count": 13,
   "metadata": {},
   "outputs": [
    {
     "data": {
      "text/html": [
       "<div><style>\n",
       ".dataframe > thead > tr,\n",
       ".dataframe > tbody > tr {\n",
       "  text-align: right;\n",
       "  white-space: pre-wrap;\n",
       "}\n",
       "</style>\n",
       "<small>shape: (476_430, 96)</small><table border=\"1\" class=\"dataframe\"><thead><tr><th>107_P06_A01</th><th>107_P06_A02</th><th>107_P06_A03</th><th>107_P06_A04</th><th>107_P06_A05</th><th>107_P06_A06</th><th>107_P06_A07</th><th>107_P06_A08</th><th>107_P06_A09</th><th>107_P06_A10</th><th>107_P06_A11</th><th>107_P06_A12</th><th>107_P06_B01</th><th>107_P06_B02</th><th>107_P06_B03</th><th>107_P06_B04</th><th>107_P06_B05</th><th>107_P06_B06</th><th>107_P06_B07</th><th>107_P06_B08</th><th>107_P06_B09</th><th>107_P06_B10</th><th>107_P06_B11</th><th>107_P06_B12</th><th>107_P06_C01</th><th>107_P06_C02</th><th>107_P06_C03</th><th>107_P06_C04</th><th>107_P06_C05</th><th>107_P06_C06</th><th>107_P06_C07</th><th>107_P06_C08</th><th>107_P06_C09</th><th>107_P06_C10</th><th>107_P06_C11</th><th>107_P06_C12</th><th>107_P06_D01</th><th>&hellip;</th><th>107_P06_E12</th><th>107_P06_F01</th><th>107_P06_F02</th><th>107_P06_F03</th><th>107_P06_F04</th><th>107_P06_F05</th><th>107_P06_F06</th><th>107_P06_F07</th><th>107_P06_F08</th><th>107_P06_F09</th><th>107_P06_F10</th><th>107_P06_F11</th><th>107_P06_F12</th><th>107_P06_G01</th><th>107_P06_G02</th><th>107_P06_G03</th><th>107_P06_G04</th><th>107_P06_G05</th><th>107_P06_G06</th><th>107_P06_G07</th><th>107_P06_G08</th><th>107_P06_G09</th><th>107_P06_G10</th><th>107_P06_G11</th><th>107_P06_G12</th><th>107_P06_H01</th><th>107_P06_H02</th><th>107_P06_H03</th><th>107_P06_H04</th><th>107_P06_H05</th><th>107_P06_H06</th><th>107_P06_H07</th><th>107_P06_H08</th><th>107_P06_H09</th><th>107_P06_H10</th><th>107_P06_H11</th><th>107_P06_H12</th></tr><tr><td>str</td><td>str</td><td>str</td><td>str</td><td>str</td><td>str</td><td>str</td><td>str</td><td>str</td><td>str</td><td>str</td><td>str</td><td>str</td><td>str</td><td>str</td><td>str</td><td>str</td><td>str</td><td>str</td><td>str</td><td>str</td><td>str</td><td>str</td><td>str</td><td>str</td><td>str</td><td>str</td><td>str</td><td>str</td><td>str</td><td>str</td><td>str</td><td>str</td><td>str</td><td>str</td><td>str</td><td>str</td><td>&hellip;</td><td>str</td><td>str</td><td>str</td><td>str</td><td>str</td><td>str</td><td>str</td><td>str</td><td>str</td><td>str</td><td>str</td><td>str</td><td>str</td><td>str</td><td>str</td><td>str</td><td>str</td><td>str</td><td>str</td><td>str</td><td>str</td><td>str</td><td>str</td><td>str</td><td>str</td><td>str</td><td>str</td><td>str</td><td>str</td><td>str</td><td>str</td><td>str</td><td>str</td><td>str</td><td>str</td><td>str</td><td>str</td></tr></thead><tbody><tr><td>&quot;0/0&quot;</td><td>&quot;0/0&quot;</td><td>&quot;0/0&quot;</td><td>&quot;0/0&quot;</td><td>&quot;0/0&quot;</td><td>&quot;0/0&quot;</td><td>&quot;0/0&quot;</td><td>&quot;0/0&quot;</td><td>&quot;0/0&quot;</td><td>&quot;0/0&quot;</td><td>&quot;0/0&quot;</td><td>&quot;0/0&quot;</td><td>&quot;0/0&quot;</td><td>&quot;0/0&quot;</td><td>&quot;0/0&quot;</td><td>&quot;0/0&quot;</td><td>&quot;0/0&quot;</td><td>&quot;0/0&quot;</td><td>&quot;0/0&quot;</td><td>&quot;0/0&quot;</td><td>&quot;0/0&quot;</td><td>&quot;0/0&quot;</td><td>&quot;0/0&quot;</td><td>&quot;0/0&quot;</td><td>&quot;0/0&quot;</td><td>&quot;0/0&quot;</td><td>&quot;0/0&quot;</td><td>&quot;0/0&quot;</td><td>&quot;0/0&quot;</td><td>&quot;0/0&quot;</td><td>&quot;0/0&quot;</td><td>&quot;0/0&quot;</td><td>&quot;0/0&quot;</td><td>&quot;0/0&quot;</td><td>&quot;0/0&quot;</td><td>&quot;0/0&quot;</td><td>&quot;0/0&quot;</td><td>&hellip;</td><td>&quot;0/0&quot;</td><td>&quot;0/0&quot;</td><td>&quot;0/0&quot;</td><td>&quot;0/0&quot;</td><td>&quot;0/0&quot;</td><td>&quot;0/0&quot;</td><td>&quot;0/0&quot;</td><td>&quot;0/0&quot;</td><td>&quot;0/0&quot;</td><td>&quot;0/0&quot;</td><td>&quot;0/0&quot;</td><td>&quot;0/0&quot;</td><td>&quot;0/0&quot;</td><td>&quot;0/0&quot;</td><td>&quot;0/0&quot;</td><td>&quot;0/0&quot;</td><td>&quot;0/0&quot;</td><td>&quot;0/0&quot;</td><td>&quot;0/0&quot;</td><td>&quot;0/0&quot;</td><td>&quot;0/0&quot;</td><td>&quot;0/0&quot;</td><td>&quot;0/0&quot;</td><td>&quot;0/0&quot;</td><td>&quot;0/0&quot;</td><td>&quot;0/0&quot;</td><td>&quot;0/0&quot;</td><td>&quot;0/0&quot;</td><td>&quot;0/0&quot;</td><td>&quot;0/0&quot;</td><td>&quot;0/0&quot;</td><td>&quot;0/0&quot;</td><td>&quot;0/0&quot;</td><td>&quot;0/0&quot;</td><td>&quot;0/0&quot;</td><td>&quot;0/0&quot;</td><td>&quot;1/1&quot;</td></tr><tr><td>&quot;0/0&quot;</td><td>&quot;0/0&quot;</td><td>&quot;0/0&quot;</td><td>&quot;0/0&quot;</td><td>&quot;0/0&quot;</td><td>&quot;0/0&quot;</td><td>&quot;0/0&quot;</td><td>&quot;0/0&quot;</td><td>&quot;0/0&quot;</td><td>&quot;0/0&quot;</td><td>&quot;0/0&quot;</td><td>&quot;1/1&quot;</td><td>&quot;0/0&quot;</td><td>&quot;0/0&quot;</td><td>&quot;0/0&quot;</td><td>&quot;0/0&quot;</td><td>&quot;0/0&quot;</td><td>&quot;0/0&quot;</td><td>&quot;0/0&quot;</td><td>&quot;0/0&quot;</td><td>&quot;0/0&quot;</td><td>&quot;0/0&quot;</td><td>&quot;1/1&quot;</td><td>&quot;0/0&quot;</td><td>&quot;0/0&quot;</td><td>&quot;0/0&quot;</td><td>&quot;0/0&quot;</td><td>&quot;0/0&quot;</td><td>&quot;0/0&quot;</td><td>&quot;0/0&quot;</td><td>&quot;0/0&quot;</td><td>&quot;0/0&quot;</td><td>&quot;0/0&quot;</td><td>&quot;0/0&quot;</td><td>&quot;0/0&quot;</td><td>&quot;0/0&quot;</td><td>&quot;0/0&quot;</td><td>&hellip;</td><td>&quot;0/0&quot;</td><td>&quot;0/0&quot;</td><td>&quot;0/0&quot;</td><td>&quot;0/0&quot;</td><td>&quot;0/0&quot;</td><td>&quot;0/0&quot;</td><td>&quot;0/0&quot;</td><td>&quot;0/0&quot;</td><td>&quot;0/0&quot;</td><td>&quot;0/0&quot;</td><td>&quot;0/0&quot;</td><td>&quot;0/0&quot;</td><td>&quot;0/0&quot;</td><td>&quot;0/0&quot;</td><td>&quot;0/0&quot;</td><td>&quot;0/0&quot;</td><td>&quot;0/0&quot;</td><td>&quot;0/0&quot;</td><td>&quot;0/0&quot;</td><td>&quot;0/0&quot;</td><td>&quot;0/0&quot;</td><td>&quot;0/0&quot;</td><td>&quot;0/0&quot;</td><td>&quot;0/0&quot;</td><td>&quot;0/0&quot;</td><td>&quot;0/0&quot;</td><td>&quot;0/0&quot;</td><td>&quot;0/0&quot;</td><td>&quot;0/0&quot;</td><td>&quot;0/0&quot;</td><td>&quot;0/0&quot;</td><td>&quot;0/0&quot;</td><td>&quot;0/0&quot;</td><td>&quot;0/0&quot;</td><td>&quot;0/0&quot;</td><td>&quot;0/0&quot;</td><td>&quot;0/0&quot;</td></tr><tr><td>&quot;0/0&quot;</td><td>&quot;0/0&quot;</td><td>&quot;0/0&quot;</td><td>&quot;0/0&quot;</td><td>&quot;0/0&quot;</td><td>&quot;0/0&quot;</td><td>&quot;0/0&quot;</td><td>&quot;0/0&quot;</td><td>&quot;0/0&quot;</td><td>&quot;0/0&quot;</td><td>&quot;0/0&quot;</td><td>&quot;0/0&quot;</td><td>&quot;0/0&quot;</td><td>&quot;0/0&quot;</td><td>&quot;0/0&quot;</td><td>&quot;0/0&quot;</td><td>&quot;0/0&quot;</td><td>&quot;0/0&quot;</td><td>&quot;0/0&quot;</td><td>&quot;0/0&quot;</td><td>&quot;0/0&quot;</td><td>&quot;0/0&quot;</td><td>&quot;0/0&quot;</td><td>&quot;0/0&quot;</td><td>&quot;0/0&quot;</td><td>&quot;0/0&quot;</td><td>&quot;0/0&quot;</td><td>&quot;0/0&quot;</td><td>&quot;0/0&quot;</td><td>&quot;0/0&quot;</td><td>&quot;0/0&quot;</td><td>&quot;0/0&quot;</td><td>&quot;0/0&quot;</td><td>&quot;0/0&quot;</td><td>&quot;0/0&quot;</td><td>&quot;0/0&quot;</td><td>&quot;0/0&quot;</td><td>&hellip;</td><td>&quot;0/0&quot;</td><td>&quot;0/0&quot;</td><td>&quot;0/0&quot;</td><td>&quot;0/0&quot;</td><td>&quot;0/0&quot;</td><td>&quot;0/0&quot;</td><td>&quot;0/0&quot;</td><td>&quot;0/0&quot;</td><td>&quot;0/0&quot;</td><td>&quot;0/0&quot;</td><td>&quot;0/0&quot;</td><td>&quot;0/0&quot;</td><td>&quot;0/0&quot;</td><td>&quot;0/0&quot;</td><td>&quot;0/0&quot;</td><td>&quot;0/0&quot;</td><td>&quot;0/0&quot;</td><td>&quot;0/0&quot;</td><td>&quot;0/0&quot;</td><td>&quot;0/0&quot;</td><td>&quot;0/0&quot;</td><td>&quot;0/0&quot;</td><td>&quot;0/0&quot;</td><td>&quot;0/0&quot;</td><td>&quot;0/0&quot;</td><td>&quot;0/0&quot;</td><td>&quot;0/0&quot;</td><td>&quot;0/0&quot;</td><td>&quot;0/0&quot;</td><td>&quot;0/0&quot;</td><td>&quot;0/0&quot;</td><td>&quot;1/1&quot;</td><td>&quot;0/0&quot;</td><td>&quot;0/0&quot;</td><td>&quot;0/0&quot;</td><td>&quot;0/0&quot;</td><td>&quot;0/0&quot;</td></tr><tr><td>&quot;0/0&quot;</td><td>&quot;0/0&quot;</td><td>&quot;0/0&quot;</td><td>&quot;0/0&quot;</td><td>&quot;0/0&quot;</td><td>&quot;0/0&quot;</td><td>&quot;0/0&quot;</td><td>&quot;0/0&quot;</td><td>&quot;0/0&quot;</td><td>&quot;0/0&quot;</td><td>&quot;0/0&quot;</td><td>&quot;0/0&quot;</td><td>&quot;0/0&quot;</td><td>&quot;0/0&quot;</td><td>&quot;0/0&quot;</td><td>&quot;0/0&quot;</td><td>&quot;0/0&quot;</td><td>&quot;0/0&quot;</td><td>&quot;0/0&quot;</td><td>&quot;0/0&quot;</td><td>&quot;0/0&quot;</td><td>&quot;0/0&quot;</td><td>&quot;0/0&quot;</td><td>&quot;0/0&quot;</td><td>&quot;0/0&quot;</td><td>&quot;0/0&quot;</td><td>&quot;0/0&quot;</td><td>&quot;0/0&quot;</td><td>&quot;0/0&quot;</td><td>&quot;0/0&quot;</td><td>&quot;0/0&quot;</td><td>&quot;0/0&quot;</td><td>&quot;0/0&quot;</td><td>&quot;0/0&quot;</td><td>&quot;0/0&quot;</td><td>&quot;0/0&quot;</td><td>&quot;0/0&quot;</td><td>&hellip;</td><td>&quot;0/0&quot;</td><td>&quot;0/0&quot;</td><td>&quot;0/0&quot;</td><td>&quot;0/0&quot;</td><td>&quot;0/0&quot;</td><td>&quot;0/0&quot;</td><td>&quot;0/0&quot;</td><td>&quot;0/0&quot;</td><td>&quot;0/0&quot;</td><td>&quot;0/0&quot;</td><td>&quot;0/0&quot;</td><td>&quot;0/0&quot;</td><td>&quot;0/0&quot;</td><td>&quot;0/0&quot;</td><td>&quot;0/0&quot;</td><td>&quot;0/0&quot;</td><td>&quot;0/0&quot;</td><td>&quot;0/0&quot;</td><td>&quot;0/0&quot;</td><td>&quot;0/0&quot;</td><td>&quot;0/0&quot;</td><td>&quot;0/0&quot;</td><td>&quot;0/0&quot;</td><td>&quot;0/0&quot;</td><td>&quot;0/0&quot;</td><td>&quot;0/0&quot;</td><td>&quot;0/0&quot;</td><td>&quot;0/0&quot;</td><td>&quot;0/0&quot;</td><td>&quot;0/0&quot;</td><td>&quot;0/0&quot;</td><td>&quot;0/0&quot;</td><td>&quot;0/0&quot;</td><td>&quot;0/0&quot;</td><td>&quot;1/1&quot;</td><td>&quot;0/0&quot;</td><td>&quot;0/0&quot;</td></tr><tr><td>&quot;0/0&quot;</td><td>&quot;0/0&quot;</td><td>&quot;0/0&quot;</td><td>&quot;0/0&quot;</td><td>&quot;0/0&quot;</td><td>&quot;0/0&quot;</td><td>&quot;0/0&quot;</td><td>&quot;0/0&quot;</td><td>&quot;0/0&quot;</td><td>&quot;0/0&quot;</td><td>&quot;0/0&quot;</td><td>&quot;0/0&quot;</td><td>&quot;0/0&quot;</td><td>&quot;0/0&quot;</td><td>&quot;0/0&quot;</td><td>&quot;0/0&quot;</td><td>&quot;0/0&quot;</td><td>&quot;0/0&quot;</td><td>&quot;0/0&quot;</td><td>&quot;0/0&quot;</td><td>&quot;0/0&quot;</td><td>&quot;0/0&quot;</td><td>&quot;0/0&quot;</td><td>&quot;0/0&quot;</td><td>&quot;0/0&quot;</td><td>&quot;0/0&quot;</td><td>&quot;0/0&quot;</td><td>&quot;0/0&quot;</td><td>&quot;0/0&quot;</td><td>&quot;0/0&quot;</td><td>&quot;0/0&quot;</td><td>&quot;0/0&quot;</td><td>&quot;0/0&quot;</td><td>&quot;0/0&quot;</td><td>&quot;0/0&quot;</td><td>&quot;0/0&quot;</td><td>&quot;0/0&quot;</td><td>&hellip;</td><td>&quot;0/0&quot;</td><td>&quot;0/0&quot;</td><td>&quot;0/0&quot;</td><td>&quot;0/0&quot;</td><td>&quot;0/0&quot;</td><td>&quot;0/0&quot;</td><td>&quot;0/0&quot;</td><td>&quot;0/0&quot;</td><td>&quot;0/0&quot;</td><td>&quot;0/0&quot;</td><td>&quot;0/0&quot;</td><td>&quot;0/0&quot;</td><td>&quot;0/0&quot;</td><td>&quot;0/0&quot;</td><td>&quot;0/0&quot;</td><td>&quot;0/0&quot;</td><td>&quot;0/0&quot;</td><td>&quot;0/0&quot;</td><td>&quot;0/0&quot;</td><td>&quot;0/0&quot;</td><td>&quot;0/0&quot;</td><td>&quot;0/0&quot;</td><td>&quot;0/0&quot;</td><td>&quot;0/0&quot;</td><td>&quot;0/0&quot;</td><td>&quot;0/0&quot;</td><td>&quot;0/0&quot;</td><td>&quot;0/0&quot;</td><td>&quot;0/0&quot;</td><td>&quot;0/0&quot;</td><td>&quot;0/0&quot;</td><td>&quot;0/0&quot;</td><td>&quot;0/0&quot;</td><td>&quot;0/0&quot;</td><td>&quot;1/1&quot;</td><td>&quot;0/0&quot;</td><td>&quot;0/0&quot;</td></tr><tr><td>&hellip;</td><td>&hellip;</td><td>&hellip;</td><td>&hellip;</td><td>&hellip;</td><td>&hellip;</td><td>&hellip;</td><td>&hellip;</td><td>&hellip;</td><td>&hellip;</td><td>&hellip;</td><td>&hellip;</td><td>&hellip;</td><td>&hellip;</td><td>&hellip;</td><td>&hellip;</td><td>&hellip;</td><td>&hellip;</td><td>&hellip;</td><td>&hellip;</td><td>&hellip;</td><td>&hellip;</td><td>&hellip;</td><td>&hellip;</td><td>&hellip;</td><td>&hellip;</td><td>&hellip;</td><td>&hellip;</td><td>&hellip;</td><td>&hellip;</td><td>&hellip;</td><td>&hellip;</td><td>&hellip;</td><td>&hellip;</td><td>&hellip;</td><td>&hellip;</td><td>&hellip;</td><td>&hellip;</td><td>&hellip;</td><td>&hellip;</td><td>&hellip;</td><td>&hellip;</td><td>&hellip;</td><td>&hellip;</td><td>&hellip;</td><td>&hellip;</td><td>&hellip;</td><td>&hellip;</td><td>&hellip;</td><td>&hellip;</td><td>&hellip;</td><td>&hellip;</td><td>&hellip;</td><td>&hellip;</td><td>&hellip;</td><td>&hellip;</td><td>&hellip;</td><td>&hellip;</td><td>&hellip;</td><td>&hellip;</td><td>&hellip;</td><td>&hellip;</td><td>&hellip;</td><td>&hellip;</td><td>&hellip;</td><td>&hellip;</td><td>&hellip;</td><td>&hellip;</td><td>&hellip;</td><td>&hellip;</td><td>&hellip;</td><td>&hellip;</td><td>&hellip;</td><td>&hellip;</td><td>&hellip;</td></tr><tr><td>&quot;0/0&quot;</td><td>&quot;0/0&quot;</td><td>&quot;0/0&quot;</td><td>&quot;0/0&quot;</td><td>&quot;0/0&quot;</td><td>&quot;0/0&quot;</td><td>&quot;0/0&quot;</td><td>&quot;0/0&quot;</td><td>&quot;0/0&quot;</td><td>&quot;0/0&quot;</td><td>&quot;0/0&quot;</td><td>&quot;0/0&quot;</td><td>&quot;0/0&quot;</td><td>&quot;0/0&quot;</td><td>&quot;0/0&quot;</td><td>&quot;0/0&quot;</td><td>&quot;0/0&quot;</td><td>&quot;0/0&quot;</td><td>&quot;0/0&quot;</td><td>&quot;0/0&quot;</td><td>&quot;0/0&quot;</td><td>&quot;0/0&quot;</td><td>&quot;0/0&quot;</td><td>&quot;0/0&quot;</td><td>&quot;0/0&quot;</td><td>&quot;0/0&quot;</td><td>&quot;0/0&quot;</td><td>&quot;0/0&quot;</td><td>&quot;0/0&quot;</td><td>&quot;0/0&quot;</td><td>&quot;0/0&quot;</td><td>&quot;0/0&quot;</td><td>&quot;0/0&quot;</td><td>&quot;0/0&quot;</td><td>&quot;0/0&quot;</td><td>&quot;0/0&quot;</td><td>&quot;0/0&quot;</td><td>&hellip;</td><td>&quot;0/0&quot;</td><td>&quot;0/0&quot;</td><td>&quot;0/0&quot;</td><td>&quot;0/0&quot;</td><td>&quot;0/0&quot;</td><td>&quot;0/0&quot;</td><td>&quot;0/0&quot;</td><td>&quot;0/0&quot;</td><td>&quot;1|1&quot;</td><td>&quot;0/0&quot;</td><td>&quot;0/0&quot;</td><td>&quot;0/0&quot;</td><td>&quot;0/0&quot;</td><td>&quot;0/0&quot;</td><td>&quot;0/0&quot;</td><td>&quot;0/0&quot;</td><td>&quot;0/0&quot;</td><td>&quot;0/0&quot;</td><td>&quot;0/0&quot;</td><td>&quot;0/0&quot;</td><td>&quot;0/0&quot;</td><td>&quot;0/0&quot;</td><td>&quot;0/0&quot;</td><td>&quot;0/0&quot;</td><td>&quot;0/0&quot;</td><td>&quot;0/0&quot;</td><td>&quot;0/0&quot;</td><td>&quot;0/0&quot;</td><td>&quot;0/0&quot;</td><td>&quot;0/0&quot;</td><td>&quot;0/0&quot;</td><td>&quot;0/0&quot;</td><td>&quot;0/0&quot;</td><td>&quot;0/0&quot;</td><td>&quot;0/0&quot;</td><td>&quot;0/0&quot;</td><td>&quot;0/0&quot;</td></tr><tr><td>&quot;0/0&quot;</td><td>&quot;0/0&quot;</td><td>&quot;0/0&quot;</td><td>&quot;0/0&quot;</td><td>&quot;0/0&quot;</td><td>&quot;0/0&quot;</td><td>&quot;0/0&quot;</td><td>&quot;0/0&quot;</td><td>&quot;0/0&quot;</td><td>&quot;0/0&quot;</td><td>&quot;0/0&quot;</td><td>&quot;0/0&quot;</td><td>&quot;0/0&quot;</td><td>&quot;0/0&quot;</td><td>&quot;0/0&quot;</td><td>&quot;0/0&quot;</td><td>&quot;0/0&quot;</td><td>&quot;0/0&quot;</td><td>&quot;0/0&quot;</td><td>&quot;0/0&quot;</td><td>&quot;0/0&quot;</td><td>&quot;0/0&quot;</td><td>&quot;0/0&quot;</td><td>&quot;0/0&quot;</td><td>&quot;0/0&quot;</td><td>&quot;0/0&quot;</td><td>&quot;0/0&quot;</td><td>&quot;0/0&quot;</td><td>&quot;0/0&quot;</td><td>&quot;0/0&quot;</td><td>&quot;0/0&quot;</td><td>&quot;0/0&quot;</td><td>&quot;0/0&quot;</td><td>&quot;0/0&quot;</td><td>&quot;0/0&quot;</td><td>&quot;0/0&quot;</td><td>&quot;0/0&quot;</td><td>&hellip;</td><td>&quot;0/0&quot;</td><td>&quot;0/0&quot;</td><td>&quot;0/0&quot;</td><td>&quot;0/0&quot;</td><td>&quot;0/0&quot;</td><td>&quot;0/0&quot;</td><td>&quot;0/0&quot;</td><td>&quot;0/0&quot;</td><td>&quot;1|1&quot;</td><td>&quot;0/0&quot;</td><td>&quot;0/0&quot;</td><td>&quot;0/0&quot;</td><td>&quot;0/0&quot;</td><td>&quot;0/0&quot;</td><td>&quot;0/0&quot;</td><td>&quot;0/0&quot;</td><td>&quot;0/0&quot;</td><td>&quot;0/0&quot;</td><td>&quot;0/0&quot;</td><td>&quot;0/0&quot;</td><td>&quot;0/0&quot;</td><td>&quot;0/0&quot;</td><td>&quot;0/0&quot;</td><td>&quot;0/0&quot;</td><td>&quot;0/0&quot;</td><td>&quot;0/0&quot;</td><td>&quot;0/0&quot;</td><td>&quot;0/0&quot;</td><td>&quot;0/0&quot;</td><td>&quot;0/0&quot;</td><td>&quot;0/0&quot;</td><td>&quot;0/0&quot;</td><td>&quot;0/0&quot;</td><td>&quot;0/0&quot;</td><td>&quot;0/0&quot;</td><td>&quot;0/0&quot;</td><td>&quot;0/0&quot;</td></tr><tr><td>&quot;0/0&quot;</td><td>&quot;0/0&quot;</td><td>&quot;0/0&quot;</td><td>&quot;0/0&quot;</td><td>&quot;0/0&quot;</td><td>&quot;0/0&quot;</td><td>&quot;0/0&quot;</td><td>&quot;0/0&quot;</td><td>&quot;0/0&quot;</td><td>&quot;0/0&quot;</td><td>&quot;0/0&quot;</td><td>&quot;0/0&quot;</td><td>&quot;0/0&quot;</td><td>&quot;0/0&quot;</td><td>&quot;0/0&quot;</td><td>&quot;0/0&quot;</td><td>&quot;0/0&quot;</td><td>&quot;0/0&quot;</td><td>&quot;0/0&quot;</td><td>&quot;0/0&quot;</td><td>&quot;0/0&quot;</td><td>&quot;0/0&quot;</td><td>&quot;0/0&quot;</td><td>&quot;0/0&quot;</td><td>&quot;0/0&quot;</td><td>&quot;0/0&quot;</td><td>&quot;0/0&quot;</td><td>&quot;0/0&quot;</td><td>&quot;0/0&quot;</td><td>&quot;0/0&quot;</td><td>&quot;0/0&quot;</td><td>&quot;0/0&quot;</td><td>&quot;0/0&quot;</td><td>&quot;0/0&quot;</td><td>&quot;0/0&quot;</td><td>&quot;0/0&quot;</td><td>&quot;0/0&quot;</td><td>&hellip;</td><td>&quot;0/0&quot;</td><td>&quot;0/0&quot;</td><td>&quot;0/0&quot;</td><td>&quot;0/0&quot;</td><td>&quot;0/0&quot;</td><td>&quot;0/0&quot;</td><td>&quot;0/0&quot;</td><td>&quot;0/0&quot;</td><td>&quot;1/1&quot;</td><td>&quot;0/0&quot;</td><td>&quot;0/0&quot;</td><td>&quot;0/0&quot;</td><td>&quot;0/0&quot;</td><td>&quot;0/0&quot;</td><td>&quot;0/0&quot;</td><td>&quot;0/0&quot;</td><td>&quot;0/0&quot;</td><td>&quot;0/0&quot;</td><td>&quot;0/0&quot;</td><td>&quot;0/0&quot;</td><td>&quot;0/0&quot;</td><td>&quot;0/0&quot;</td><td>&quot;0/0&quot;</td><td>&quot;0/0&quot;</td><td>&quot;0/0&quot;</td><td>&quot;0/0&quot;</td><td>&quot;0/0&quot;</td><td>&quot;0/0&quot;</td><td>&quot;0/0&quot;</td><td>&quot;0/0&quot;</td><td>&quot;0/0&quot;</td><td>&quot;0/0&quot;</td><td>&quot;0/0&quot;</td><td>&quot;0/0&quot;</td><td>&quot;0/0&quot;</td><td>&quot;0/0&quot;</td><td>&quot;0/0&quot;</td></tr><tr><td>&quot;0/0&quot;</td><td>&quot;0/0&quot;</td><td>&quot;0/0&quot;</td><td>&quot;0/0&quot;</td><td>&quot;0/0&quot;</td><td>&quot;1/1&quot;</td><td>&quot;0/0&quot;</td><td>&quot;0/0&quot;</td><td>&quot;0/0&quot;</td><td>&quot;0/0&quot;</td><td>&quot;0/0&quot;</td><td>&quot;0/0&quot;</td><td>&quot;0/0&quot;</td><td>&quot;0/0&quot;</td><td>&quot;0/0&quot;</td><td>&quot;0/0&quot;</td><td>&quot;0/0&quot;</td><td>&quot;0/0&quot;</td><td>&quot;0/0&quot;</td><td>&quot;0/0&quot;</td><td>&quot;0/0&quot;</td><td>&quot;0/0&quot;</td><td>&quot;0/0&quot;</td><td>&quot;0/0&quot;</td><td>&quot;0/0&quot;</td><td>&quot;0/0&quot;</td><td>&quot;0/0&quot;</td><td>&quot;0/0&quot;</td><td>&quot;0/0&quot;</td><td>&quot;0/0&quot;</td><td>&quot;0/0&quot;</td><td>&quot;0/0&quot;</td><td>&quot;0/0&quot;</td><td>&quot;0/0&quot;</td><td>&quot;0/0&quot;</td><td>&quot;0/0&quot;</td><td>&quot;0/0&quot;</td><td>&hellip;</td><td>&quot;0/0&quot;</td><td>&quot;0/0&quot;</td><td>&quot;0/0&quot;</td><td>&quot;0/0&quot;</td><td>&quot;0/0&quot;</td><td>&quot;0/0&quot;</td><td>&quot;0/0&quot;</td><td>&quot;0/0&quot;</td><td>&quot;0/0&quot;</td><td>&quot;0/0&quot;</td><td>&quot;0/0&quot;</td><td>&quot;0/0&quot;</td><td>&quot;0/0&quot;</td><td>&quot;0/0&quot;</td><td>&quot;0/0&quot;</td><td>&quot;0/0&quot;</td><td>&quot;0/0&quot;</td><td>&quot;0/0&quot;</td><td>&quot;0/0&quot;</td><td>&quot;0/0&quot;</td><td>&quot;0/0&quot;</td><td>&quot;0/0&quot;</td><td>&quot;0/0&quot;</td><td>&quot;0/0&quot;</td><td>&quot;0/0&quot;</td><td>&quot;0/0&quot;</td><td>&quot;0/0&quot;</td><td>&quot;0/0&quot;</td><td>&quot;0/0&quot;</td><td>&quot;0/0&quot;</td><td>&quot;0/0&quot;</td><td>&quot;0/0&quot;</td><td>&quot;0/0&quot;</td><td>&quot;0/0&quot;</td><td>&quot;0/0&quot;</td><td>&quot;0/0&quot;</td><td>&quot;0/0&quot;</td></tr><tr><td>&quot;0/0&quot;</td><td>&quot;0/0&quot;</td><td>&quot;0/0&quot;</td><td>&quot;0/0&quot;</td><td>&quot;0/0&quot;</td><td>&quot;1/1&quot;</td><td>&quot;0/0&quot;</td><td>&quot;0/0&quot;</td><td>&quot;0/0&quot;</td><td>&quot;0/0&quot;</td><td>&quot;0/0&quot;</td><td>&quot;0/0&quot;</td><td>&quot;0/0&quot;</td><td>&quot;0/0&quot;</td><td>&quot;0/0&quot;</td><td>&quot;0/0&quot;</td><td>&quot;0/0&quot;</td><td>&quot;0/0&quot;</td><td>&quot;0/0&quot;</td><td>&quot;0/0&quot;</td><td>&quot;0/0&quot;</td><td>&quot;0/0&quot;</td><td>&quot;0/0&quot;</td><td>&quot;1/1&quot;</td><td>&quot;0/0&quot;</td><td>&quot;0/0&quot;</td><td>&quot;0/0&quot;</td><td>&quot;0/0&quot;</td><td>&quot;0/0&quot;</td><td>&quot;0/0&quot;</td><td>&quot;0/0&quot;</td><td>&quot;0/0&quot;</td><td>&quot;0/0&quot;</td><td>&quot;0/0&quot;</td><td>&quot;0/0&quot;</td><td>&quot;0/0&quot;</td><td>&quot;0/0&quot;</td><td>&hellip;</td><td>&quot;0/0&quot;</td><td>&quot;0/0&quot;</td><td>&quot;0/0&quot;</td><td>&quot;0/0&quot;</td><td>&quot;0/0&quot;</td><td>&quot;0/0&quot;</td><td>&quot;0/0&quot;</td><td>&quot;0/0&quot;</td><td>&quot;0/0&quot;</td><td>&quot;0/0&quot;</td><td>&quot;0/0&quot;</td><td>&quot;0/0&quot;</td><td>&quot;0/0&quot;</td><td>&quot;0/0&quot;</td><td>&quot;0/0&quot;</td><td>&quot;0/0&quot;</td><td>&quot;0/0&quot;</td><td>&quot;0/0&quot;</td><td>&quot;0/0&quot;</td><td>&quot;0/0&quot;</td><td>&quot;0/0&quot;</td><td>&quot;0/0&quot;</td><td>&quot;0/0&quot;</td><td>&quot;0/0&quot;</td><td>&quot;0/0&quot;</td><td>&quot;0/0&quot;</td><td>&quot;0/0&quot;</td><td>&quot;0/0&quot;</td><td>&quot;0/0&quot;</td><td>&quot;0/0&quot;</td><td>&quot;0/0&quot;</td><td>&quot;0/0&quot;</td><td>&quot;0/0&quot;</td><td>&quot;0/0&quot;</td><td>&quot;0/0&quot;</td><td>&quot;0/0&quot;</td><td>&quot;0/0&quot;</td></tr></tbody></table></div>"
      ],
      "text/plain": [
       "shape: (476_430, 96)\n",
       "┌───────────┬───────────┬───────────┬───────────┬───┬───────────┬───────────┬───────────┬──────────┐\n",
       "│ 107_P06_A ┆ 107_P06_A ┆ 107_P06_A ┆ 107_P06_A ┆ … ┆ 107_P06_H ┆ 107_P06_H ┆ 107_P06_H ┆ 107_P06_ │\n",
       "│ 01        ┆ 02        ┆ 03        ┆ 04        ┆   ┆ 09        ┆ 10        ┆ 11        ┆ H12      │\n",
       "│ ---       ┆ ---       ┆ ---       ┆ ---       ┆   ┆ ---       ┆ ---       ┆ ---       ┆ ---      │\n",
       "│ str       ┆ str       ┆ str       ┆ str       ┆   ┆ str       ┆ str       ┆ str       ┆ str      │\n",
       "╞═══════════╪═══════════╪═══════════╪═══════════╪═══╪═══════════╪═══════════╪═══════════╪══════════╡\n",
       "│ 0/0       ┆ 0/0       ┆ 0/0       ┆ 0/0       ┆ … ┆ 0/0       ┆ 0/0       ┆ 0/0       ┆ 1/1      │\n",
       "│ 0/0       ┆ 0/0       ┆ 0/0       ┆ 0/0       ┆ … ┆ 0/0       ┆ 0/0       ┆ 0/0       ┆ 0/0      │\n",
       "│ 0/0       ┆ 0/0       ┆ 0/0       ┆ 0/0       ┆ … ┆ 0/0       ┆ 0/0       ┆ 0/0       ┆ 0/0      │\n",
       "│ 0/0       ┆ 0/0       ┆ 0/0       ┆ 0/0       ┆ … ┆ 0/0       ┆ 1/1       ┆ 0/0       ┆ 0/0      │\n",
       "│ 0/0       ┆ 0/0       ┆ 0/0       ┆ 0/0       ┆ … ┆ 0/0       ┆ 1/1       ┆ 0/0       ┆ 0/0      │\n",
       "│ …         ┆ …         ┆ …         ┆ …         ┆ … ┆ …         ┆ …         ┆ …         ┆ …        │\n",
       "│ 0/0       ┆ 0/0       ┆ 0/0       ┆ 0/0       ┆ … ┆ 0/0       ┆ 0/0       ┆ 0/0       ┆ 0/0      │\n",
       "│ 0/0       ┆ 0/0       ┆ 0/0       ┆ 0/0       ┆ … ┆ 0/0       ┆ 0/0       ┆ 0/0       ┆ 0/0      │\n",
       "│ 0/0       ┆ 0/0       ┆ 0/0       ┆ 0/0       ┆ … ┆ 0/0       ┆ 0/0       ┆ 0/0       ┆ 0/0      │\n",
       "│ 0/0       ┆ 0/0       ┆ 0/0       ┆ 0/0       ┆ … ┆ 0/0       ┆ 0/0       ┆ 0/0       ┆ 0/0      │\n",
       "│ 0/0       ┆ 0/0       ┆ 0/0       ┆ 0/0       ┆ … ┆ 0/0       ┆ 0/0       ┆ 0/0       ┆ 0/0      │\n",
       "└───────────┴───────────┴───────────┴───────────┴───┴───────────┴───────────┴───────────┴──────────┘"
      ]
     },
     "execution_count": 13,
     "metadata": {},
     "output_type": "execute_result"
    }
   ],
   "source": [
    "df_test"
   ]
  },
  {
   "cell_type": "code",
   "execution_count": 14,
   "metadata": {},
   "outputs": [],
   "source": [
    "df_test_bin = df_test.select(\n",
    "    pl.all().map_elements(lambda x: (x == \"0/0\") or (x == \"0|0\") or (x == \".|.\") or (x == \"./.\"), return_dtype=pl.Boolean)\n",
    ")"
   ]
  },
  {
   "cell_type": "code",
   "execution_count": 15,
   "metadata": {},
   "outputs": [
    {
     "data": {
      "text/html": [
       "<div><style>\n",
       ".dataframe > thead > tr,\n",
       ".dataframe > tbody > tr {\n",
       "  text-align: right;\n",
       "  white-space: pre-wrap;\n",
       "}\n",
       "</style>\n",
       "<small>shape: (476_430, 96)</small><table border=\"1\" class=\"dataframe\"><thead><tr><th>107_P06_A01</th><th>107_P06_A02</th><th>107_P06_A03</th><th>107_P06_A04</th><th>107_P06_A05</th><th>107_P06_A06</th><th>107_P06_A07</th><th>107_P06_A08</th><th>107_P06_A09</th><th>107_P06_A10</th><th>107_P06_A11</th><th>107_P06_A12</th><th>107_P06_B01</th><th>107_P06_B02</th><th>107_P06_B03</th><th>107_P06_B04</th><th>107_P06_B05</th><th>107_P06_B06</th><th>107_P06_B07</th><th>107_P06_B08</th><th>107_P06_B09</th><th>107_P06_B10</th><th>107_P06_B11</th><th>107_P06_B12</th><th>107_P06_C01</th><th>107_P06_C02</th><th>107_P06_C03</th><th>107_P06_C04</th><th>107_P06_C05</th><th>107_P06_C06</th><th>107_P06_C07</th><th>107_P06_C08</th><th>107_P06_C09</th><th>107_P06_C10</th><th>107_P06_C11</th><th>107_P06_C12</th><th>107_P06_D01</th><th>&hellip;</th><th>107_P06_E12</th><th>107_P06_F01</th><th>107_P06_F02</th><th>107_P06_F03</th><th>107_P06_F04</th><th>107_P06_F05</th><th>107_P06_F06</th><th>107_P06_F07</th><th>107_P06_F08</th><th>107_P06_F09</th><th>107_P06_F10</th><th>107_P06_F11</th><th>107_P06_F12</th><th>107_P06_G01</th><th>107_P06_G02</th><th>107_P06_G03</th><th>107_P06_G04</th><th>107_P06_G05</th><th>107_P06_G06</th><th>107_P06_G07</th><th>107_P06_G08</th><th>107_P06_G09</th><th>107_P06_G10</th><th>107_P06_G11</th><th>107_P06_G12</th><th>107_P06_H01</th><th>107_P06_H02</th><th>107_P06_H03</th><th>107_P06_H04</th><th>107_P06_H05</th><th>107_P06_H06</th><th>107_P06_H07</th><th>107_P06_H08</th><th>107_P06_H09</th><th>107_P06_H10</th><th>107_P06_H11</th><th>107_P06_H12</th></tr><tr><td>bool</td><td>bool</td><td>bool</td><td>bool</td><td>bool</td><td>bool</td><td>bool</td><td>bool</td><td>bool</td><td>bool</td><td>bool</td><td>bool</td><td>bool</td><td>bool</td><td>bool</td><td>bool</td><td>bool</td><td>bool</td><td>bool</td><td>bool</td><td>bool</td><td>bool</td><td>bool</td><td>bool</td><td>bool</td><td>bool</td><td>bool</td><td>bool</td><td>bool</td><td>bool</td><td>bool</td><td>bool</td><td>bool</td><td>bool</td><td>bool</td><td>bool</td><td>bool</td><td>&hellip;</td><td>bool</td><td>bool</td><td>bool</td><td>bool</td><td>bool</td><td>bool</td><td>bool</td><td>bool</td><td>bool</td><td>bool</td><td>bool</td><td>bool</td><td>bool</td><td>bool</td><td>bool</td><td>bool</td><td>bool</td><td>bool</td><td>bool</td><td>bool</td><td>bool</td><td>bool</td><td>bool</td><td>bool</td><td>bool</td><td>bool</td><td>bool</td><td>bool</td><td>bool</td><td>bool</td><td>bool</td><td>bool</td><td>bool</td><td>bool</td><td>bool</td><td>bool</td><td>bool</td></tr></thead><tbody><tr><td>true</td><td>true</td><td>true</td><td>true</td><td>true</td><td>true</td><td>true</td><td>true</td><td>true</td><td>true</td><td>true</td><td>true</td><td>true</td><td>true</td><td>true</td><td>true</td><td>true</td><td>true</td><td>true</td><td>true</td><td>true</td><td>true</td><td>true</td><td>true</td><td>true</td><td>true</td><td>true</td><td>true</td><td>true</td><td>true</td><td>true</td><td>true</td><td>true</td><td>true</td><td>true</td><td>true</td><td>true</td><td>&hellip;</td><td>true</td><td>true</td><td>true</td><td>true</td><td>true</td><td>true</td><td>true</td><td>true</td><td>true</td><td>true</td><td>true</td><td>true</td><td>true</td><td>true</td><td>true</td><td>true</td><td>true</td><td>true</td><td>true</td><td>true</td><td>true</td><td>true</td><td>true</td><td>true</td><td>true</td><td>true</td><td>true</td><td>true</td><td>true</td><td>true</td><td>true</td><td>true</td><td>true</td><td>true</td><td>true</td><td>true</td><td>false</td></tr><tr><td>true</td><td>true</td><td>true</td><td>true</td><td>true</td><td>true</td><td>true</td><td>true</td><td>true</td><td>true</td><td>true</td><td>false</td><td>true</td><td>true</td><td>true</td><td>true</td><td>true</td><td>true</td><td>true</td><td>true</td><td>true</td><td>true</td><td>false</td><td>true</td><td>true</td><td>true</td><td>true</td><td>true</td><td>true</td><td>true</td><td>true</td><td>true</td><td>true</td><td>true</td><td>true</td><td>true</td><td>true</td><td>&hellip;</td><td>true</td><td>true</td><td>true</td><td>true</td><td>true</td><td>true</td><td>true</td><td>true</td><td>true</td><td>true</td><td>true</td><td>true</td><td>true</td><td>true</td><td>true</td><td>true</td><td>true</td><td>true</td><td>true</td><td>true</td><td>true</td><td>true</td><td>true</td><td>true</td><td>true</td><td>true</td><td>true</td><td>true</td><td>true</td><td>true</td><td>true</td><td>true</td><td>true</td><td>true</td><td>true</td><td>true</td><td>true</td></tr><tr><td>true</td><td>true</td><td>true</td><td>true</td><td>true</td><td>true</td><td>true</td><td>true</td><td>true</td><td>true</td><td>true</td><td>true</td><td>true</td><td>true</td><td>true</td><td>true</td><td>true</td><td>true</td><td>true</td><td>true</td><td>true</td><td>true</td><td>true</td><td>true</td><td>true</td><td>true</td><td>true</td><td>true</td><td>true</td><td>true</td><td>true</td><td>true</td><td>true</td><td>true</td><td>true</td><td>true</td><td>true</td><td>&hellip;</td><td>true</td><td>true</td><td>true</td><td>true</td><td>true</td><td>true</td><td>true</td><td>true</td><td>true</td><td>true</td><td>true</td><td>true</td><td>true</td><td>true</td><td>true</td><td>true</td><td>true</td><td>true</td><td>true</td><td>true</td><td>true</td><td>true</td><td>true</td><td>true</td><td>true</td><td>true</td><td>true</td><td>true</td><td>true</td><td>true</td><td>true</td><td>false</td><td>true</td><td>true</td><td>true</td><td>true</td><td>true</td></tr><tr><td>true</td><td>true</td><td>true</td><td>true</td><td>true</td><td>true</td><td>true</td><td>true</td><td>true</td><td>true</td><td>true</td><td>true</td><td>true</td><td>true</td><td>true</td><td>true</td><td>true</td><td>true</td><td>true</td><td>true</td><td>true</td><td>true</td><td>true</td><td>true</td><td>true</td><td>true</td><td>true</td><td>true</td><td>true</td><td>true</td><td>true</td><td>true</td><td>true</td><td>true</td><td>true</td><td>true</td><td>true</td><td>&hellip;</td><td>true</td><td>true</td><td>true</td><td>true</td><td>true</td><td>true</td><td>true</td><td>true</td><td>true</td><td>true</td><td>true</td><td>true</td><td>true</td><td>true</td><td>true</td><td>true</td><td>true</td><td>true</td><td>true</td><td>true</td><td>true</td><td>true</td><td>true</td><td>true</td><td>true</td><td>true</td><td>true</td><td>true</td><td>true</td><td>true</td><td>true</td><td>true</td><td>true</td><td>true</td><td>false</td><td>true</td><td>true</td></tr><tr><td>true</td><td>true</td><td>true</td><td>true</td><td>true</td><td>true</td><td>true</td><td>true</td><td>true</td><td>true</td><td>true</td><td>true</td><td>true</td><td>true</td><td>true</td><td>true</td><td>true</td><td>true</td><td>true</td><td>true</td><td>true</td><td>true</td><td>true</td><td>true</td><td>true</td><td>true</td><td>true</td><td>true</td><td>true</td><td>true</td><td>true</td><td>true</td><td>true</td><td>true</td><td>true</td><td>true</td><td>true</td><td>&hellip;</td><td>true</td><td>true</td><td>true</td><td>true</td><td>true</td><td>true</td><td>true</td><td>true</td><td>true</td><td>true</td><td>true</td><td>true</td><td>true</td><td>true</td><td>true</td><td>true</td><td>true</td><td>true</td><td>true</td><td>true</td><td>true</td><td>true</td><td>true</td><td>true</td><td>true</td><td>true</td><td>true</td><td>true</td><td>true</td><td>true</td><td>true</td><td>true</td><td>true</td><td>true</td><td>false</td><td>true</td><td>true</td></tr><tr><td>&hellip;</td><td>&hellip;</td><td>&hellip;</td><td>&hellip;</td><td>&hellip;</td><td>&hellip;</td><td>&hellip;</td><td>&hellip;</td><td>&hellip;</td><td>&hellip;</td><td>&hellip;</td><td>&hellip;</td><td>&hellip;</td><td>&hellip;</td><td>&hellip;</td><td>&hellip;</td><td>&hellip;</td><td>&hellip;</td><td>&hellip;</td><td>&hellip;</td><td>&hellip;</td><td>&hellip;</td><td>&hellip;</td><td>&hellip;</td><td>&hellip;</td><td>&hellip;</td><td>&hellip;</td><td>&hellip;</td><td>&hellip;</td><td>&hellip;</td><td>&hellip;</td><td>&hellip;</td><td>&hellip;</td><td>&hellip;</td><td>&hellip;</td><td>&hellip;</td><td>&hellip;</td><td>&hellip;</td><td>&hellip;</td><td>&hellip;</td><td>&hellip;</td><td>&hellip;</td><td>&hellip;</td><td>&hellip;</td><td>&hellip;</td><td>&hellip;</td><td>&hellip;</td><td>&hellip;</td><td>&hellip;</td><td>&hellip;</td><td>&hellip;</td><td>&hellip;</td><td>&hellip;</td><td>&hellip;</td><td>&hellip;</td><td>&hellip;</td><td>&hellip;</td><td>&hellip;</td><td>&hellip;</td><td>&hellip;</td><td>&hellip;</td><td>&hellip;</td><td>&hellip;</td><td>&hellip;</td><td>&hellip;</td><td>&hellip;</td><td>&hellip;</td><td>&hellip;</td><td>&hellip;</td><td>&hellip;</td><td>&hellip;</td><td>&hellip;</td><td>&hellip;</td><td>&hellip;</td><td>&hellip;</td></tr><tr><td>true</td><td>true</td><td>true</td><td>true</td><td>true</td><td>true</td><td>true</td><td>true</td><td>true</td><td>true</td><td>true</td><td>true</td><td>true</td><td>true</td><td>true</td><td>true</td><td>true</td><td>true</td><td>true</td><td>true</td><td>true</td><td>true</td><td>true</td><td>true</td><td>true</td><td>true</td><td>true</td><td>true</td><td>true</td><td>true</td><td>true</td><td>true</td><td>true</td><td>true</td><td>true</td><td>true</td><td>true</td><td>&hellip;</td><td>true</td><td>true</td><td>true</td><td>true</td><td>true</td><td>true</td><td>true</td><td>true</td><td>false</td><td>true</td><td>true</td><td>true</td><td>true</td><td>true</td><td>true</td><td>true</td><td>true</td><td>true</td><td>true</td><td>true</td><td>true</td><td>true</td><td>true</td><td>true</td><td>true</td><td>true</td><td>true</td><td>true</td><td>true</td><td>true</td><td>true</td><td>true</td><td>true</td><td>true</td><td>true</td><td>true</td><td>true</td></tr><tr><td>true</td><td>true</td><td>true</td><td>true</td><td>true</td><td>true</td><td>true</td><td>true</td><td>true</td><td>true</td><td>true</td><td>true</td><td>true</td><td>true</td><td>true</td><td>true</td><td>true</td><td>true</td><td>true</td><td>true</td><td>true</td><td>true</td><td>true</td><td>true</td><td>true</td><td>true</td><td>true</td><td>true</td><td>true</td><td>true</td><td>true</td><td>true</td><td>true</td><td>true</td><td>true</td><td>true</td><td>true</td><td>&hellip;</td><td>true</td><td>true</td><td>true</td><td>true</td><td>true</td><td>true</td><td>true</td><td>true</td><td>false</td><td>true</td><td>true</td><td>true</td><td>true</td><td>true</td><td>true</td><td>true</td><td>true</td><td>true</td><td>true</td><td>true</td><td>true</td><td>true</td><td>true</td><td>true</td><td>true</td><td>true</td><td>true</td><td>true</td><td>true</td><td>true</td><td>true</td><td>true</td><td>true</td><td>true</td><td>true</td><td>true</td><td>true</td></tr><tr><td>true</td><td>true</td><td>true</td><td>true</td><td>true</td><td>true</td><td>true</td><td>true</td><td>true</td><td>true</td><td>true</td><td>true</td><td>true</td><td>true</td><td>true</td><td>true</td><td>true</td><td>true</td><td>true</td><td>true</td><td>true</td><td>true</td><td>true</td><td>true</td><td>true</td><td>true</td><td>true</td><td>true</td><td>true</td><td>true</td><td>true</td><td>true</td><td>true</td><td>true</td><td>true</td><td>true</td><td>true</td><td>&hellip;</td><td>true</td><td>true</td><td>true</td><td>true</td><td>true</td><td>true</td><td>true</td><td>true</td><td>false</td><td>true</td><td>true</td><td>true</td><td>true</td><td>true</td><td>true</td><td>true</td><td>true</td><td>true</td><td>true</td><td>true</td><td>true</td><td>true</td><td>true</td><td>true</td><td>true</td><td>true</td><td>true</td><td>true</td><td>true</td><td>true</td><td>true</td><td>true</td><td>true</td><td>true</td><td>true</td><td>true</td><td>true</td></tr><tr><td>true</td><td>true</td><td>true</td><td>true</td><td>true</td><td>false</td><td>true</td><td>true</td><td>true</td><td>true</td><td>true</td><td>true</td><td>true</td><td>true</td><td>true</td><td>true</td><td>true</td><td>true</td><td>true</td><td>true</td><td>true</td><td>true</td><td>true</td><td>true</td><td>true</td><td>true</td><td>true</td><td>true</td><td>true</td><td>true</td><td>true</td><td>true</td><td>true</td><td>true</td><td>true</td><td>true</td><td>true</td><td>&hellip;</td><td>true</td><td>true</td><td>true</td><td>true</td><td>true</td><td>true</td><td>true</td><td>true</td><td>true</td><td>true</td><td>true</td><td>true</td><td>true</td><td>true</td><td>true</td><td>true</td><td>true</td><td>true</td><td>true</td><td>true</td><td>true</td><td>true</td><td>true</td><td>true</td><td>true</td><td>true</td><td>true</td><td>true</td><td>true</td><td>true</td><td>true</td><td>true</td><td>true</td><td>true</td><td>true</td><td>true</td><td>true</td></tr><tr><td>true</td><td>true</td><td>true</td><td>true</td><td>true</td><td>false</td><td>true</td><td>true</td><td>true</td><td>true</td><td>true</td><td>true</td><td>true</td><td>true</td><td>true</td><td>true</td><td>true</td><td>true</td><td>true</td><td>true</td><td>true</td><td>true</td><td>true</td><td>false</td><td>true</td><td>true</td><td>true</td><td>true</td><td>true</td><td>true</td><td>true</td><td>true</td><td>true</td><td>true</td><td>true</td><td>true</td><td>true</td><td>&hellip;</td><td>true</td><td>true</td><td>true</td><td>true</td><td>true</td><td>true</td><td>true</td><td>true</td><td>true</td><td>true</td><td>true</td><td>true</td><td>true</td><td>true</td><td>true</td><td>true</td><td>true</td><td>true</td><td>true</td><td>true</td><td>true</td><td>true</td><td>true</td><td>true</td><td>true</td><td>true</td><td>true</td><td>true</td><td>true</td><td>true</td><td>true</td><td>true</td><td>true</td><td>true</td><td>true</td><td>true</td><td>true</td></tr></tbody></table></div>"
      ],
      "text/plain": [
       "shape: (476_430, 96)\n",
       "┌───────────┬───────────┬───────────┬───────────┬───┬───────────┬───────────┬───────────┬──────────┐\n",
       "│ 107_P06_A ┆ 107_P06_A ┆ 107_P06_A ┆ 107_P06_A ┆ … ┆ 107_P06_H ┆ 107_P06_H ┆ 107_P06_H ┆ 107_P06_ │\n",
       "│ 01        ┆ 02        ┆ 03        ┆ 04        ┆   ┆ 09        ┆ 10        ┆ 11        ┆ H12      │\n",
       "│ ---       ┆ ---       ┆ ---       ┆ ---       ┆   ┆ ---       ┆ ---       ┆ ---       ┆ ---      │\n",
       "│ bool      ┆ bool      ┆ bool      ┆ bool      ┆   ┆ bool      ┆ bool      ┆ bool      ┆ bool     │\n",
       "╞═══════════╪═══════════╪═══════════╪═══════════╪═══╪═══════════╪═══════════╪═══════════╪══════════╡\n",
       "│ true      ┆ true      ┆ true      ┆ true      ┆ … ┆ true      ┆ true      ┆ true      ┆ false    │\n",
       "│ true      ┆ true      ┆ true      ┆ true      ┆ … ┆ true      ┆ true      ┆ true      ┆ true     │\n",
       "│ true      ┆ true      ┆ true      ┆ true      ┆ … ┆ true      ┆ true      ┆ true      ┆ true     │\n",
       "│ true      ┆ true      ┆ true      ┆ true      ┆ … ┆ true      ┆ false     ┆ true      ┆ true     │\n",
       "│ true      ┆ true      ┆ true      ┆ true      ┆ … ┆ true      ┆ false     ┆ true      ┆ true     │\n",
       "│ …         ┆ …         ┆ …         ┆ …         ┆ … ┆ …         ┆ …         ┆ …         ┆ …        │\n",
       "│ true      ┆ true      ┆ true      ┆ true      ┆ … ┆ true      ┆ true      ┆ true      ┆ true     │\n",
       "│ true      ┆ true      ┆ true      ┆ true      ┆ … ┆ true      ┆ true      ┆ true      ┆ true     │\n",
       "│ true      ┆ true      ┆ true      ┆ true      ┆ … ┆ true      ┆ true      ┆ true      ┆ true     │\n",
       "│ true      ┆ true      ┆ true      ┆ true      ┆ … ┆ true      ┆ true      ┆ true      ┆ true     │\n",
       "│ true      ┆ true      ┆ true      ┆ true      ┆ … ┆ true      ┆ true      ┆ true      ┆ true     │\n",
       "└───────────┴───────────┴───────────┴───────────┴───┴───────────┴───────────┴───────────┴──────────┘"
      ]
     },
     "execution_count": 15,
     "metadata": {},
     "output_type": "execute_result"
    }
   ],
   "source": [
    "df_test_bin"
   ]
  },
  {
   "cell_type": "code",
   "execution_count": 16,
   "metadata": {},
   "outputs": [],
   "source": [
    "min_cells = df_test_bin.sum_horizontal().map_elements(lambda x: 96-x, return_dtype=pl.Int32) > 10"
   ]
  },
  {
   "cell_type": "code",
   "execution_count": 17,
   "metadata": {},
   "outputs": [
    {
     "name": "stdout",
     "output_type": "stream",
     "text": [
      "(5375, 105)\n"
     ]
    }
   ],
   "source": [
    "min_cell = no_indel.filter(min_cells)\n",
    "print(min_cell.shape)"
   ]
  },
  {
   "cell_type": "code",
   "execution_count": 18,
   "metadata": {},
   "outputs": [],
   "source": [
    "def get_info_dp(x: str):\n",
    "\n",
    "    for category in x.split(';'):\n",
    "\n",
    "        if category.startswith('DP'):\n",
    "            dp = category.split('=')[1]\n",
    "            return int(dp)\n",
    "        else: continue\n",
    "        \n",
    "    return 0"
   ]
  },
  {
   "cell_type": "code",
   "execution_count": 19,
   "metadata": {},
   "outputs": [],
   "source": [
    "info_dp_values = min_cell['INFO'].map_elements(get_info_dp, return_dtype=pl.Int32)"
   ]
  },
  {
   "cell_type": "code",
   "execution_count": 20,
   "metadata": {},
   "outputs": [],
   "source": [
    "min_cell_pass = min_cell.filter(info_dp_values>100)"
   ]
  },
  {
   "cell_type": "code",
   "execution_count": 75,
   "metadata": {},
   "outputs": [
    {
     "data": {
      "text/html": [
       "<div><style>\n",
       ".dataframe > thead > tr,\n",
       ".dataframe > tbody > tr {\n",
       "  text-align: right;\n",
       "  white-space: pre-wrap;\n",
       "}\n",
       "</style>\n",
       "<small>shape: (4_703,)</small><table border=\"1\" class=\"dataframe\"><thead><tr><th>MUT_ID</th></tr><tr><td>str</td></tr></thead><tbody><tr><td>&quot;chr1_4902532_A_T&quot;</td></tr><tr><td>&quot;chr1_9633816_A_C&quot;</td></tr><tr><td>&quot;chr1_9637165_T_A&quot;</td></tr><tr><td>&quot;chr1_9637172_C_A&quot;</td></tr><tr><td>&quot;chr1_13695239_T_C&quot;</td></tr><tr><td>&hellip;</td></tr><tr><td>&quot;chrX_165245299_C_A&quot;</td></tr><tr><td>&quot;chrX_169092201_T_C&quot;</td></tr><tr><td>&quot;chrX_169092207_G_C&quot;</td></tr><tr><td>&quot;chrX_169092221_A_C&quot;</td></tr><tr><td>&quot;chrX_169092224_G_T&quot;</td></tr></tbody></table></div>"
      ],
      "text/plain": [
       "shape: (4_703,)\n",
       "Series: 'MUT_ID' [str]\n",
       "[\n",
       "\t\"chr1_4902532_A_T\"\n",
       "\t\"chr1_9633816_A_C\"\n",
       "\t\"chr1_9637165_T_A\"\n",
       "\t\"chr1_9637172_C_A\"\n",
       "\t\"chr1_13695239_T_C\"\n",
       "\t…\n",
       "\t\"chrX_165245299_C_A\"\n",
       "\t\"chrX_169092201_T_C\"\n",
       "\t\"chrX_169092207_G_C\"\n",
       "\t\"chrX_169092221_A_C\"\n",
       "\t\"chrX_169092224_G_T\"\n",
       "]"
      ]
     },
     "execution_count": 75,
     "metadata": {},
     "output_type": "execute_result"
    }
   ],
   "source": [
    "min_cell_pass.with_columns(\n",
    "    pl.concat_str(\n",
    "        [\n",
    "            pl.col(\"#CHROM\"),\n",
    "            pl.col(\"POS\"),\n",
    "            pl.col(\"REF\"),\n",
    "            pl.col(\"ALT\")\n",
    "        ],\n",
    "        separator=\"_\",\n",
    "    ).alias(\"MUT_ID\"),\n",
    ")[\"MUT_ID\"]"
   ]
  },
  {
   "cell_type": "code",
   "execution_count": 21,
   "metadata": {},
   "outputs": [],
   "source": [
    "df_test = min_cell_pass[:, START_SAMPLES_COL:]"
   ]
  },
  {
   "cell_type": "code",
   "execution_count": 22,
   "metadata": {},
   "outputs": [],
   "source": [
    "samples = df_test.columns"
   ]
  },
  {
   "cell_type": "code",
   "execution_count": 23,
   "metadata": {},
   "outputs": [],
   "source": [
    "df_test = df_test.with_columns(\n",
    "    pl.all().map_elements(lambda x: x[:3], return_dtype=pl.String)\n",
    "    )"
   ]
  },
  {
   "cell_type": "code",
   "execution_count": null,
   "metadata": {},
   "outputs": [],
   "source": []
  },
  {
   "cell_type": "code",
   "execution_count": 24,
   "metadata": {},
   "outputs": [],
   "source": [
    "def set_genotype(x):\n",
    "\n",
    "    match x:\n",
    "        case '0/0':\n",
    "            return 0\n",
    "        case '0|0':\n",
    "            return 0\n",
    "        case './.':\n",
    "            return 0\n",
    "        case '.|.':\n",
    "            return 0\n",
    "        case '1/1':\n",
    "            return 1\n",
    "        case '1|1':\n",
    "            return 1\n",
    "        case '0/1':\n",
    "            return 1\n",
    "        case '0|1':\n",
    "            return 1\n",
    "        case _:\n",
    "            return 0"
   ]
  },
  {
   "cell_type": "code",
   "execution_count": 25,
   "metadata": {},
   "outputs": [],
   "source": [
    "df_test = df_test.with_columns(\n",
    "    pl.all().map_elements(set_genotype, return_dtype=pl.Int32)\n",
    "    )"
   ]
  },
  {
   "cell_type": "code",
   "execution_count": 68,
   "metadata": {},
   "outputs": [
    {
     "data": {
      "text/html": [
       "<div><style>\n",
       ".dataframe > thead > tr,\n",
       ".dataframe > tbody > tr {\n",
       "  text-align: right;\n",
       "  white-space: pre-wrap;\n",
       "}\n",
       "</style>\n",
       "<small>shape: (4_703, 96)</small><table border=\"1\" class=\"dataframe\"><thead><tr><th>107_P06_A01</th><th>107_P06_A02</th><th>107_P06_A03</th><th>107_P06_A04</th><th>107_P06_A05</th><th>107_P06_A06</th><th>107_P06_A07</th><th>107_P06_A08</th><th>107_P06_A09</th><th>107_P06_A10</th><th>107_P06_A11</th><th>107_P06_A12</th><th>107_P06_B01</th><th>107_P06_B02</th><th>107_P06_B03</th><th>107_P06_B04</th><th>107_P06_B05</th><th>107_P06_B06</th><th>107_P06_B07</th><th>107_P06_B08</th><th>107_P06_B09</th><th>107_P06_B10</th><th>107_P06_B11</th><th>107_P06_B12</th><th>107_P06_C01</th><th>107_P06_C02</th><th>107_P06_C03</th><th>107_P06_C04</th><th>107_P06_C05</th><th>107_P06_C06</th><th>107_P06_C07</th><th>107_P06_C08</th><th>107_P06_C09</th><th>107_P06_C10</th><th>107_P06_C11</th><th>107_P06_C12</th><th>107_P06_D01</th><th>&hellip;</th><th>107_P06_E12</th><th>107_P06_F01</th><th>107_P06_F02</th><th>107_P06_F03</th><th>107_P06_F04</th><th>107_P06_F05</th><th>107_P06_F06</th><th>107_P06_F07</th><th>107_P06_F08</th><th>107_P06_F09</th><th>107_P06_F10</th><th>107_P06_F11</th><th>107_P06_F12</th><th>107_P06_G01</th><th>107_P06_G02</th><th>107_P06_G03</th><th>107_P06_G04</th><th>107_P06_G05</th><th>107_P06_G06</th><th>107_P06_G07</th><th>107_P06_G08</th><th>107_P06_G09</th><th>107_P06_G10</th><th>107_P06_G11</th><th>107_P06_G12</th><th>107_P06_H01</th><th>107_P06_H02</th><th>107_P06_H03</th><th>107_P06_H04</th><th>107_P06_H05</th><th>107_P06_H06</th><th>107_P06_H07</th><th>107_P06_H08</th><th>107_P06_H09</th><th>107_P06_H10</th><th>107_P06_H11</th><th>107_P06_H12</th></tr><tr><td>i32</td><td>i32</td><td>i32</td><td>i32</td><td>i32</td><td>i32</td><td>i32</td><td>i32</td><td>i32</td><td>i32</td><td>i32</td><td>i32</td><td>i32</td><td>i32</td><td>i32</td><td>i32</td><td>i32</td><td>i32</td><td>i32</td><td>i32</td><td>i32</td><td>i32</td><td>i32</td><td>i32</td><td>i32</td><td>i32</td><td>i32</td><td>i32</td><td>i32</td><td>i32</td><td>i32</td><td>i32</td><td>i32</td><td>i32</td><td>i32</td><td>i32</td><td>i32</td><td>&hellip;</td><td>i32</td><td>i32</td><td>i32</td><td>i32</td><td>i32</td><td>i32</td><td>i32</td><td>i32</td><td>i32</td><td>i32</td><td>i32</td><td>i32</td><td>i32</td><td>i32</td><td>i32</td><td>i32</td><td>i32</td><td>i32</td><td>i32</td><td>i32</td><td>i32</td><td>i32</td><td>i32</td><td>i32</td><td>i32</td><td>i32</td><td>i32</td><td>i32</td><td>i32</td><td>i32</td><td>i32</td><td>i32</td><td>i32</td><td>i32</td><td>i32</td><td>i32</td><td>i32</td></tr></thead><tbody><tr><td>1</td><td>0</td><td>0</td><td>0</td><td>0</td><td>1</td><td>1</td><td>1</td><td>0</td><td>1</td><td>0</td><td>0</td><td>0</td><td>0</td><td>0</td><td>1</td><td>0</td><td>0</td><td>1</td><td>0</td><td>0</td><td>0</td><td>1</td><td>1</td><td>0</td><td>0</td><td>0</td><td>0</td><td>0</td><td>1</td><td>0</td><td>1</td><td>0</td><td>0</td><td>0</td><td>0</td><td>0</td><td>&hellip;</td><td>0</td><td>0</td><td>0</td><td>0</td><td>1</td><td>0</td><td>0</td><td>0</td><td>0</td><td>0</td><td>0</td><td>0</td><td>1</td><td>0</td><td>0</td><td>0</td><td>0</td><td>0</td><td>0</td><td>0</td><td>1</td><td>0</td><td>0</td><td>0</td><td>0</td><td>1</td><td>0</td><td>0</td><td>0</td><td>0</td><td>0</td><td>0</td><td>0</td><td>0</td><td>1</td><td>1</td><td>0</td></tr><tr><td>0</td><td>0</td><td>0</td><td>0</td><td>0</td><td>1</td><td>0</td><td>0</td><td>0</td><td>1</td><td>0</td><td>0</td><td>1</td><td>0</td><td>0</td><td>1</td><td>0</td><td>0</td><td>0</td><td>1</td><td>0</td><td>1</td><td>0</td><td>0</td><td>0</td><td>0</td><td>0</td><td>0</td><td>0</td><td>0</td><td>1</td><td>1</td><td>0</td><td>1</td><td>0</td><td>0</td><td>0</td><td>&hellip;</td><td>1</td><td>0</td><td>0</td><td>0</td><td>0</td><td>0</td><td>0</td><td>0</td><td>0</td><td>0</td><td>1</td><td>0</td><td>0</td><td>1</td><td>0</td><td>0</td><td>0</td><td>0</td><td>0</td><td>0</td><td>0</td><td>0</td><td>1</td><td>0</td><td>0</td><td>0</td><td>0</td><td>0</td><td>0</td><td>0</td><td>0</td><td>0</td><td>0</td><td>0</td><td>0</td><td>0</td><td>0</td></tr><tr><td>1</td><td>0</td><td>0</td><td>0</td><td>0</td><td>1</td><td>0</td><td>0</td><td>0</td><td>1</td><td>1</td><td>0</td><td>0</td><td>0</td><td>0</td><td>1</td><td>0</td><td>0</td><td>1</td><td>1</td><td>0</td><td>0</td><td>0</td><td>1</td><td>0</td><td>0</td><td>0</td><td>0</td><td>0</td><td>0</td><td>0</td><td>1</td><td>0</td><td>1</td><td>0</td><td>1</td><td>0</td><td>&hellip;</td><td>1</td><td>0</td><td>0</td><td>0</td><td>0</td><td>0</td><td>0</td><td>0</td><td>0</td><td>0</td><td>1</td><td>0</td><td>0</td><td>1</td><td>0</td><td>0</td><td>0</td><td>0</td><td>0</td><td>0</td><td>0</td><td>0</td><td>1</td><td>0</td><td>0</td><td>1</td><td>0</td><td>0</td><td>0</td><td>0</td><td>0</td><td>0</td><td>0</td><td>0</td><td>0</td><td>0</td><td>0</td></tr><tr><td>1</td><td>0</td><td>0</td><td>0</td><td>0</td><td>1</td><td>0</td><td>0</td><td>0</td><td>1</td><td>1</td><td>0</td><td>0</td><td>0</td><td>0</td><td>1</td><td>0</td><td>0</td><td>1</td><td>0</td><td>0</td><td>0</td><td>0</td><td>1</td><td>0</td><td>0</td><td>0</td><td>0</td><td>0</td><td>0</td><td>0</td><td>1</td><td>0</td><td>1</td><td>0</td><td>1</td><td>0</td><td>&hellip;</td><td>1</td><td>0</td><td>0</td><td>0</td><td>0</td><td>0</td><td>0</td><td>0</td><td>0</td><td>0</td><td>1</td><td>0</td><td>0</td><td>0</td><td>0</td><td>0</td><td>0</td><td>0</td><td>0</td><td>0</td><td>0</td><td>0</td><td>1</td><td>0</td><td>0</td><td>1</td><td>0</td><td>0</td><td>0</td><td>0</td><td>0</td><td>0</td><td>0</td><td>0</td><td>0</td><td>0</td><td>0</td></tr><tr><td>0</td><td>0</td><td>0</td><td>0</td><td>0</td><td>0</td><td>0</td><td>0</td><td>0</td><td>1</td><td>0</td><td>0</td><td>0</td><td>0</td><td>0</td><td>0</td><td>0</td><td>0</td><td>0</td><td>0</td><td>0</td><td>0</td><td>1</td><td>1</td><td>0</td><td>0</td><td>0</td><td>0</td><td>0</td><td>0</td><td>0</td><td>0</td><td>0</td><td>0</td><td>0</td><td>0</td><td>0</td><td>&hellip;</td><td>0</td><td>0</td><td>0</td><td>0</td><td>1</td><td>0</td><td>0</td><td>1</td><td>1</td><td>0</td><td>0</td><td>0</td><td>0</td><td>0</td><td>0</td><td>0</td><td>0</td><td>0</td><td>0</td><td>1</td><td>0</td><td>0</td><td>1</td><td>0</td><td>0</td><td>1</td><td>0</td><td>0</td><td>0</td><td>0</td><td>0</td><td>0</td><td>0</td><td>0</td><td>0</td><td>0</td><td>0</td></tr><tr><td>&hellip;</td><td>&hellip;</td><td>&hellip;</td><td>&hellip;</td><td>&hellip;</td><td>&hellip;</td><td>&hellip;</td><td>&hellip;</td><td>&hellip;</td><td>&hellip;</td><td>&hellip;</td><td>&hellip;</td><td>&hellip;</td><td>&hellip;</td><td>&hellip;</td><td>&hellip;</td><td>&hellip;</td><td>&hellip;</td><td>&hellip;</td><td>&hellip;</td><td>&hellip;</td><td>&hellip;</td><td>&hellip;</td><td>&hellip;</td><td>&hellip;</td><td>&hellip;</td><td>&hellip;</td><td>&hellip;</td><td>&hellip;</td><td>&hellip;</td><td>&hellip;</td><td>&hellip;</td><td>&hellip;</td><td>&hellip;</td><td>&hellip;</td><td>&hellip;</td><td>&hellip;</td><td>&hellip;</td><td>&hellip;</td><td>&hellip;</td><td>&hellip;</td><td>&hellip;</td><td>&hellip;</td><td>&hellip;</td><td>&hellip;</td><td>&hellip;</td><td>&hellip;</td><td>&hellip;</td><td>&hellip;</td><td>&hellip;</td><td>&hellip;</td><td>&hellip;</td><td>&hellip;</td><td>&hellip;</td><td>&hellip;</td><td>&hellip;</td><td>&hellip;</td><td>&hellip;</td><td>&hellip;</td><td>&hellip;</td><td>&hellip;</td><td>&hellip;</td><td>&hellip;</td><td>&hellip;</td><td>&hellip;</td><td>&hellip;</td><td>&hellip;</td><td>&hellip;</td><td>&hellip;</td><td>&hellip;</td><td>&hellip;</td><td>&hellip;</td><td>&hellip;</td><td>&hellip;</td><td>&hellip;</td></tr><tr><td>0</td><td>0</td><td>0</td><td>1</td><td>0</td><td>1</td><td>1</td><td>1</td><td>0</td><td>0</td><td>0</td><td>0</td><td>1</td><td>0</td><td>0</td><td>1</td><td>1</td><td>0</td><td>0</td><td>1</td><td>0</td><td>1</td><td>1</td><td>1</td><td>0</td><td>0</td><td>0</td><td>0</td><td>1</td><td>1</td><td>1</td><td>1</td><td>0</td><td>0</td><td>1</td><td>1</td><td>0</td><td>&hellip;</td><td>1</td><td>0</td><td>0</td><td>0</td><td>1</td><td>0</td><td>0</td><td>0</td><td>1</td><td>1</td><td>0</td><td>0</td><td>0</td><td>1</td><td>0</td><td>0</td><td>1</td><td>0</td><td>0</td><td>0</td><td>1</td><td>0</td><td>0</td><td>1</td><td>1</td><td>1</td><td>0</td><td>0</td><td>1</td><td>0</td><td>0</td><td>0</td><td>0</td><td>0</td><td>0</td><td>1</td><td>1</td></tr><tr><td>0</td><td>0</td><td>0</td><td>0</td><td>1</td><td>0</td><td>0</td><td>0</td><td>0</td><td>0</td><td>1</td><td>0</td><td>0</td><td>0</td><td>0</td><td>0</td><td>0</td><td>0</td><td>0</td><td>0</td><td>0</td><td>0</td><td>0</td><td>1</td><td>0</td><td>0</td><td>0</td><td>1</td><td>1</td><td>0</td><td>0</td><td>1</td><td>0</td><td>0</td><td>0</td><td>1</td><td>0</td><td>&hellip;</td><td>0</td><td>0</td><td>0</td><td>0</td><td>0</td><td>0</td><td>0</td><td>0</td><td>0</td><td>0</td><td>1</td><td>0</td><td>0</td><td>0</td><td>0</td><td>0</td><td>1</td><td>0</td><td>0</td><td>0</td><td>0</td><td>0</td><td>0</td><td>0</td><td>0</td><td>1</td><td>0</td><td>0</td><td>0</td><td>0</td><td>0</td><td>0</td><td>0</td><td>0</td><td>0</td><td>1</td><td>1</td></tr><tr><td>0</td><td>0</td><td>0</td><td>0</td><td>1</td><td>0</td><td>0</td><td>0</td><td>0</td><td>0</td><td>1</td><td>0</td><td>0</td><td>0</td><td>0</td><td>0</td><td>0</td><td>0</td><td>0</td><td>0</td><td>0</td><td>0</td><td>0</td><td>1</td><td>0</td><td>0</td><td>0</td><td>1</td><td>1</td><td>0</td><td>0</td><td>1</td><td>0</td><td>0</td><td>0</td><td>1</td><td>0</td><td>&hellip;</td><td>0</td><td>0</td><td>0</td><td>0</td><td>0</td><td>0</td><td>0</td><td>0</td><td>0</td><td>0</td><td>1</td><td>0</td><td>0</td><td>0</td><td>0</td><td>0</td><td>1</td><td>0</td><td>0</td><td>0</td><td>0</td><td>0</td><td>0</td><td>0</td><td>0</td><td>1</td><td>0</td><td>0</td><td>0</td><td>0</td><td>0</td><td>0</td><td>0</td><td>0</td><td>0</td><td>1</td><td>1</td></tr><tr><td>0</td><td>0</td><td>0</td><td>0</td><td>1</td><td>0</td><td>0</td><td>0</td><td>0</td><td>0</td><td>1</td><td>0</td><td>0</td><td>0</td><td>0</td><td>0</td><td>0</td><td>0</td><td>0</td><td>0</td><td>0</td><td>0</td><td>0</td><td>1</td><td>0</td><td>0</td><td>0</td><td>1</td><td>1</td><td>0</td><td>0</td><td>1</td><td>0</td><td>0</td><td>0</td><td>1</td><td>0</td><td>&hellip;</td><td>0</td><td>0</td><td>0</td><td>0</td><td>0</td><td>0</td><td>0</td><td>0</td><td>0</td><td>0</td><td>1</td><td>0</td><td>0</td><td>0</td><td>0</td><td>0</td><td>1</td><td>0</td><td>0</td><td>0</td><td>0</td><td>0</td><td>0</td><td>0</td><td>0</td><td>1</td><td>0</td><td>0</td><td>0</td><td>0</td><td>0</td><td>0</td><td>0</td><td>0</td><td>0</td><td>1</td><td>1</td></tr><tr><td>0</td><td>0</td><td>0</td><td>0</td><td>1</td><td>0</td><td>0</td><td>0</td><td>0</td><td>0</td><td>1</td><td>0</td><td>0</td><td>0</td><td>0</td><td>0</td><td>0</td><td>0</td><td>0</td><td>0</td><td>0</td><td>0</td><td>0</td><td>1</td><td>0</td><td>0</td><td>0</td><td>1</td><td>1</td><td>0</td><td>0</td><td>1</td><td>0</td><td>0</td><td>0</td><td>1</td><td>0</td><td>&hellip;</td><td>0</td><td>0</td><td>0</td><td>0</td><td>0</td><td>0</td><td>0</td><td>0</td><td>0</td><td>0</td><td>1</td><td>0</td><td>0</td><td>0</td><td>0</td><td>0</td><td>1</td><td>0</td><td>0</td><td>0</td><td>0</td><td>0</td><td>0</td><td>0</td><td>0</td><td>1</td><td>0</td><td>0</td><td>0</td><td>0</td><td>0</td><td>0</td><td>0</td><td>0</td><td>0</td><td>1</td><td>1</td></tr></tbody></table></div>"
      ],
      "text/plain": [
       "shape: (4_703, 96)\n",
       "┌───────────┬───────────┬───────────┬───────────┬───┬───────────┬───────────┬───────────┬──────────┐\n",
       "│ 107_P06_A ┆ 107_P06_A ┆ 107_P06_A ┆ 107_P06_A ┆ … ┆ 107_P06_H ┆ 107_P06_H ┆ 107_P06_H ┆ 107_P06_ │\n",
       "│ 01        ┆ 02        ┆ 03        ┆ 04        ┆   ┆ 09        ┆ 10        ┆ 11        ┆ H12      │\n",
       "│ ---       ┆ ---       ┆ ---       ┆ ---       ┆   ┆ ---       ┆ ---       ┆ ---       ┆ ---      │\n",
       "│ i32       ┆ i32       ┆ i32       ┆ i32       ┆   ┆ i32       ┆ i32       ┆ i32       ┆ i32      │\n",
       "╞═══════════╪═══════════╪═══════════╪═══════════╪═══╪═══════════╪═══════════╪═══════════╪══════════╡\n",
       "│ 1         ┆ 0         ┆ 0         ┆ 0         ┆ … ┆ 0         ┆ 1         ┆ 1         ┆ 0        │\n",
       "│ 0         ┆ 0         ┆ 0         ┆ 0         ┆ … ┆ 0         ┆ 0         ┆ 0         ┆ 0        │\n",
       "│ 1         ┆ 0         ┆ 0         ┆ 0         ┆ … ┆ 0         ┆ 0         ┆ 0         ┆ 0        │\n",
       "│ 1         ┆ 0         ┆ 0         ┆ 0         ┆ … ┆ 0         ┆ 0         ┆ 0         ┆ 0        │\n",
       "│ 0         ┆ 0         ┆ 0         ┆ 0         ┆ … ┆ 0         ┆ 0         ┆ 0         ┆ 0        │\n",
       "│ …         ┆ …         ┆ …         ┆ …         ┆ … ┆ …         ┆ …         ┆ …         ┆ …        │\n",
       "│ 0         ┆ 0         ┆ 0         ┆ 1         ┆ … ┆ 0         ┆ 0         ┆ 1         ┆ 1        │\n",
       "│ 0         ┆ 0         ┆ 0         ┆ 0         ┆ … ┆ 0         ┆ 0         ┆ 1         ┆ 1        │\n",
       "│ 0         ┆ 0         ┆ 0         ┆ 0         ┆ … ┆ 0         ┆ 0         ┆ 1         ┆ 1        │\n",
       "│ 0         ┆ 0         ┆ 0         ┆ 0         ┆ … ┆ 0         ┆ 0         ┆ 1         ┆ 1        │\n",
       "│ 0         ┆ 0         ┆ 0         ┆ 0         ┆ … ┆ 0         ┆ 0         ┆ 1         ┆ 1        │\n",
       "└───────────┴───────────┴───────────┴───────────┴───┴───────────┴───────────┴───────────┴──────────┘"
      ]
     },
     "execution_count": 68,
     "metadata": {},
     "output_type": "execute_result"
    }
   ],
   "source": [
    "df_test"
   ]
  },
  {
   "cell_type": "code",
   "execution_count": 26,
   "metadata": {},
   "outputs": [],
   "source": [
    "data = df_test.transpose().to_numpy()"
   ]
  },
  {
   "cell_type": "code",
   "execution_count": 27,
   "metadata": {},
   "outputs": [],
   "source": [
    "# fig = plt.Figure(figsize=(5,5))\n",
    "# sns.histplot(info_dp_values)\n",
    "\n",
    "# plt.xlim(0, 5000)"
   ]
  },
  {
   "cell_type": "code",
   "execution_count": 28,
   "metadata": {},
   "outputs": [
    {
     "data": {
      "text/plain": [
       "(96, 4703)"
      ]
     },
     "execution_count": 28,
     "metadata": {},
     "output_type": "execute_result"
    }
   ],
   "source": [
    "data.shape"
   ]
  },
  {
   "cell_type": "code",
   "execution_count": 60,
   "metadata": {},
   "outputs": [],
   "source": [
    "import numpy as np\n",
    "import matplotlib.pyplot as plt\n",
    "from sklearn.manifold import MDS\n",
    "import networkx as nx\n",
    "from scipy.spatial.distance import pdist, squareform\n",
    "\n",
    "random_state = np.random.RandomState(seed=42)\n",
    "n_samples = data.shape[0]\n",
    "\n",
    "# Compute the Hamming distance matrix\n",
    "dist_matrix = squareform(pdist(data, metric='cosine'))\n",
    "\n",
    "# Create a graph from the distance matrix\n",
    "G = nx.Graph()\n",
    "for i in range(n_samples):\n",
    "    for j in range(i + 1, n_samples):\n",
    "        G.add_edge(i, j, weight=dist_matrix[i, j])\n",
    "\n",
    "# Perform MDS\n",
    "mds = MDS(dissimilarity=\"precomputed\", random_state=42)\n",
    "mds_coords = mds.fit_transform(dist_matrix)"
   ]
  },
  {
   "cell_type": "code",
   "execution_count": 50,
   "metadata": {},
   "outputs": [],
   "source": [
    "import numpy as np\n",
    "import matplotlib.pyplot as plt\n",
    "from sklearn.decomposition import PCA\n",
    "from scipy.spatial.distance import pdist, squareform\n",
    "\n",
    "random_state = np.random.RandomState(seed=42)\n",
    "n_samples = data.shape[0]\n",
    "\n",
    "# Compute the Hamming distance matrix\n",
    "dist_matrix = squareform(pdist(data, metric='cosine'))\n",
    "\n",
    "# Perform PCA\n",
    "pca = PCA(random_state=random_state)\n",
    "mds_coords = pca.fit_transform(dist_matrix)\n"
   ]
  },
  {
   "cell_type": "code",
   "execution_count": 51,
   "metadata": {},
   "outputs": [],
   "source": [
    "df_mds = pd.DataFrame([pca_coords[:, 0], pca_coords[:, 1]])\n",
    "df_mds = df_mds.T"
   ]
  },
  {
   "cell_type": "code",
   "execution_count": 61,
   "metadata": {},
   "outputs": [],
   "source": [
    "df_mds = pd.DataFrame(mds_coords)\n",
    "df_mds.columns = ['x', 'y']"
   ]
  },
  {
   "cell_type": "code",
   "execution_count": 62,
   "metadata": {},
   "outputs": [],
   "source": [
    "df_mds['labels'] = samples"
   ]
  },
  {
   "cell_type": "code",
   "execution_count": 63,
   "metadata": {},
   "outputs": [],
   "source": [
    "ss2_igg = md.read_h5mu('./data/treated_igg_ss2.h5md.gz')"
   ]
  },
  {
   "cell_type": "code",
   "execution_count": 64,
   "metadata": {},
   "outputs": [],
   "source": [
    "meta_df = ss2_igg['mutation'].obs.reset_index()"
   ]
  },
  {
   "cell_type": "code",
   "execution_count": 65,
   "metadata": {},
   "outputs": [],
   "source": [
    "cell_group = meta_df.set_index('cells')['Branch'].to_dict()\n",
    "#meta_df.set_index('cells')['group'].to_dict()\n",
    "#meta_df.groupby('group')['cells'].apply(list).to_dict()"
   ]
  },
  {
   "cell_type": "code",
   "execution_count": 66,
   "metadata": {},
   "outputs": [],
   "source": [
    "df_mds['group'] = df_mds['labels'].apply(lambda x: cell_group[x] if x in cell_group.keys() else 'other')"
   ]
  },
  {
   "cell_type": "code",
   "execution_count": 67,
   "metadata": {},
   "outputs": [
    {
     "data": {
      "text/plain": [
       "<matplotlib.legend.Legend at 0x55e933510>"
      ]
     },
     "execution_count": 67,
     "metadata": {},
     "output_type": "execute_result"
    },
    {
     "data": {
      "image/png": "[encoded data removed]",
      "text/plain": [
       "<Figure size 800x800 with 1 Axes>"
      ]
     },
     "metadata": {},
     "output_type": "display_data"
    }
   ],
   "source": [
    "fig = plt.figure(figsize=(8,8))\n",
    "sns.scatterplot(df_mds, x='x', y='y', hue='group', palette='Set2')\n",
    "plt.legend(loc='upper left', bbox_to_anchor=(1, 1))\n"
   ]
  },
  {
   "cell_type": "code",
   "execution_count": null,
   "metadata": {},
   "outputs": [],
   "source": []
  }
 ],
 "metadata": {
  "kernelspec": {
   "display_name": "singlecell",
   "language": "python",
   "name": "python3"
  },
  "language_info": {
   "codemirror_mode": {
    "name": "ipython",
    "version": 3
   },
   "file_extension": ".py",
   "mimetype": "text/x-python",
   "name": "python",
   "nbconvert_exporter": "python",
   "pygments_lexer": "ipython3",
   "version": "3.1.undefined"
  }
 },
 "nbformat": 4,
 "nbformat_minor": 2
}
